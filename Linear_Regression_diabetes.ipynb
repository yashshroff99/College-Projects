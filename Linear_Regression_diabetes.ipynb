{
  "nbformat": 4,
  "nbformat_minor": 0,
  "metadata": {
    "colab": {
      "provenance": [],
      "authorship_tag": "ABX9TyOf1VJap9Cgcnrv8FuZA4MO",
      "include_colab_link": true
    },
    "kernelspec": {
      "name": "python3",
      "display_name": "Python 3"
    },
    "language_info": {
      "name": "python"
    }
  },
  "cells": [
    {
      "cell_type": "markdown",
      "metadata": {
        "id": "view-in-github",
        "colab_type": "text"
      },
      "source": [
        "<a href=\"https://colab.research.google.com/github/yashshroff99/College-Projects/blob/main/Linear_Regression_diabetes.ipynb\" target=\"_parent\"><img src=\"https://colab.research.google.com/assets/colab-badge.svg\" alt=\"Open In Colab\"/></a>"
      ]
    },
    {
      "cell_type": "code",
      "execution_count": 1,
      "metadata": {
        "colab": {
          "base_uri": "https://localhost:8080/"
        },
        "id": "9thVPJEO9dtV",
        "outputId": "0404a356-9e09-4da2-c3c7-16b62c2ed2e5"
      },
      "outputs": [
        {
          "output_type": "stream",
          "name": "stdout",
          "text": [
            "Mean squared error is: 1826.4841712795046\n",
            "Weights: [  -1.16678648 -237.18123633  518.31283524  309.04204042 -763.10835067\n",
            "  458.88378916   80.61107395  174.31796962  721.48087773   79.1952801 ]\n",
            "Intercept: 153.05824267739402\n"
          ]
        }
      ],
      "source": [
        "import matplotlib.pyplot as plt\n",
        "import numpy as np\n",
        "from sklearn import datasets, linear_model\n",
        "from sklearn.metrics import mean_squared_error\n",
        "\n",
        "# Load the diabetes dataset\n",
        "diabetes = datasets.load_diabetes()\n",
        "diabetes_X = diabetes.data\n",
        "\n",
        "# Split the data into training and testing sets\n",
        "diabetes_X_train = diabetes_X[:-30]\n",
        "diabetes_X_test = diabetes_X[-30:]\n",
        "diabetes_y_train = diabetes.target[:-30]\n",
        "diabetes_y_test = diabetes.target[-30:]\n",
        "\n",
        "# Create a linear regression model\n",
        "model = linear_model.LinearRegression()\n",
        "\n",
        "# Train the model using the training data\n",
        "model.fit(diabetes_X_train, diabetes_y_train)\n",
        "\n",
        "# Predict the target variable using the testing data\n",
        "diabetes_y_predicted = model.predict(diabetes_X_test)\n",
        "\n",
        "# Calculate and print the mean squared error\n",
        "mse = mean_squared_error(diabetes_y_test, diabetes_y_predicted)\n",
        "print(\"Mean squared error is:\", mse)\n",
        "\n",
        "# Print the coefficients (weights) and intercept of the model\n",
        "print(\"Weights:\", model.coef_)\n",
        "print(\"Intercept:\", model.intercept_)\n",
        "\n",
        "# Uncomment the following lines to visualize the predicted results\n",
        "# plt.scatter(diabetes_X_test, diabetes_y_test)\n",
        "# plt.plot(diabetes_X_test, diabetes_y_predicted)\n",
        "# plt.show()\n"
      ]
    }
  ]
}