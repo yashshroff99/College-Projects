{
  "nbformat": 4,
  "nbformat_minor": 0,
  "metadata": {
    "colab": {
      "provenance": [],
      "authorship_tag": "ABX9TyOJ72/cZapKO7eVv+P0k58h",
      "include_colab_link": true
    },
    "kernelspec": {
      "name": "python3",
      "display_name": "Python 3"
    },
    "language_info": {
      "name": "python"
    }
  },
  "cells": [
    {
      "cell_type": "markdown",
      "metadata": {
        "id": "view-in-github",
        "colab_type": "text"
      },
      "source": [
        "<a href=\"https://colab.research.google.com/github/yashshroff99/College-Projects/blob/main/KNN_Classification.ipynb\" target=\"_parent\"><img src=\"https://colab.research.google.com/assets/colab-badge.svg\" alt=\"Open In Colab\"/></a>"
      ]
    },
    {
      "cell_type": "code",
      "execution_count": 1,
      "metadata": {
        "colab": {
          "base_uri": "https://localhost:8080/"
        },
        "id": "egf7fBVzSOI7",
        "outputId": "435b17a2-4acb-4bcd-a98e-41404e5508a4"
      },
      "outputs": [
        {
          "output_type": "stream",
          "name": "stdout",
          "text": [
            "[2]\n"
          ]
        }
      ],
      "source": [
        "from sklearn import datasets\n",
        "from sklearn.neighbors import KNeighborsClassifier\n",
        "\n",
        "# Loading Dataset\n",
        "iris = datasets.load_iris()\n",
        "\n",
        "# Printing features and labels\n",
        "features = iris.data\n",
        "labels = iris.target\n",
        "\n",
        "# Training the classifier\n",
        "clf = KNeighborsClassifier()\n",
        "clf.fit(features, labels)\n",
        "\n",
        "# Making predictions\n",
        "preds = clf.predict([[9.1, 9.5, 6.4, 0.2]])\n",
        "print(preds)\n"
      ]
    }
  ]
}