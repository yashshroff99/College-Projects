{
  "nbformat": 4,
  "nbformat_minor": 0,
  "metadata": {
    "colab": {
      "provenance": [],
      "toc_visible": true,
      "include_colab_link": true
    },
    "kernelspec": {
      "name": "python3",
      "display_name": "Python 3"
    }
  },
  "cells": [
    {
      "cell_type": "markdown",
      "metadata": {
        "id": "view-in-github",
        "colab_type": "text"
      },
      "source": [
        "<a href=\"https://colab.research.google.com/github/yashshroff99/College-Projects/blob/main/ABC_analysis.ipynb\" target=\"_parent\"><img src=\"https://colab.research.google.com/assets/colab-badge.svg\" alt=\"Open In Colab\"/></a>"
      ]
    },
    {
      "cell_type": "markdown",
      "metadata": {
        "id": "v8EdCyoXJ3VY"
      },
      "source": [
        "#Importing Libraries"
      ]
    },
    {
      "cell_type": "code",
      "metadata": {
        "id": "Gx6NBY2HDxEn"
      },
      "source": [
        "import numpy as np\n",
        "import pandas as pd\n",
        "import datetime\n",
        "from datetime import datetime, date\n",
        "from datetime import timedelta\n",
        "from time import time\n",
        "from joblib import Parallel\n",
        "from joblib import delayed\n",
        "from warnings import catch_warnings\n",
        "from warnings import filterwarnings"
      ],
      "execution_count": null,
      "outputs": []
    },
    {
      "cell_type": "code",
      "metadata": {
        "id": "BQNo3w3KE8AX",
        "colab": {
          "base_uri": "https://localhost:8080/"
        },
        "outputId": "9eac149d-eb6a-4041-b7eb-87cc385f2e98"
      },
      "source": [
        "from google.colab import drive\n",
        "drive.mount('/content/drive')"
      ],
      "execution_count": null,
      "outputs": [
        {
          "output_type": "stream",
          "text": [
            "Mounted at /content/drive\n"
          ],
          "name": "stdout"
        }
      ]
    },
    {
      "cell_type": "markdown",
      "metadata": {
        "id": "qTxylcaavKsM"
      },
      "source": [
        "#Reading Inventory transactions data"
      ]
    },
    {
      "cell_type": "code",
      "metadata": {
        "colab": {
          "base_uri": "https://localhost:8080/",
          "height": 538
        },
        "id": "I6hlj2SOEX6z",
        "outputId": "195b6d5d-96e9-4dfa-f566-ef8407b16eaf"
      },
      "source": [
        "versa_sales = pd.read_csv('/content/drive/MyDrive/ABC_analysis/data_abc.csv')\n",
        "versa_sales"
      ],
      "execution_count": null,
      "outputs": [
        {
          "output_type": "execute_result",
          "data": {
            "text/html": [
              "<div>\n",
              "<style scoped>\n",
              "    .dataframe tbody tr th:only-of-type {\n",
              "        vertical-align: middle;\n",
              "    }\n",
              "\n",
              "    .dataframe tbody tr th {\n",
              "        vertical-align: top;\n",
              "    }\n",
              "\n",
              "    .dataframe thead th {\n",
              "        text-align: right;\n",
              "    }\n",
              "</style>\n",
              "<table border=\"1\" class=\"dataframe\">\n",
              "  <thead>\n",
              "    <tr style=\"text-align: right;\">\n",
              "      <th></th>\n",
              "      <th>name</th>\n",
              "      <th>part_number</th>\n",
              "      <th>price</th>\n",
              "      <th>id</th>\n",
              "      <th>firm_id</th>\n",
              "      <th>delta</th>\n",
              "      <th>transaction_date</th>\n",
              "      <th>currency_id</th>\n",
              "      <th>currencies_name</th>\n",
              "    </tr>\n",
              "  </thead>\n",
              "  <tbody>\n",
              "    <tr>\n",
              "      <th>0</th>\n",
              "      <td>R71329 SR 7</td>\n",
              "      <td>R71329 SR 7</td>\n",
              "      <td>6.55</td>\n",
              "      <td>136307</td>\n",
              "      <td>567</td>\n",
              "      <td>-1.0</td>\n",
              "      <td>2017-01-20</td>\n",
              "      <td>2</td>\n",
              "      <td>United States dollar</td>\n",
              "    </tr>\n",
              "    <tr>\n",
              "      <th>1</th>\n",
              "      <td>R71329 SR 7</td>\n",
              "      <td>R71329 SR 7</td>\n",
              "      <td>17.30</td>\n",
              "      <td>136307</td>\n",
              "      <td>567</td>\n",
              "      <td>-1.0</td>\n",
              "      <td>2017-01-20</td>\n",
              "      <td>2</td>\n",
              "      <td>United States dollar</td>\n",
              "    </tr>\n",
              "    <tr>\n",
              "      <th>2</th>\n",
              "      <td>R71329 SR 7</td>\n",
              "      <td>R71329 SR 7</td>\n",
              "      <td>18.85</td>\n",
              "      <td>136307</td>\n",
              "      <td>567</td>\n",
              "      <td>-1.0</td>\n",
              "      <td>2017-01-20</td>\n",
              "      <td>2</td>\n",
              "      <td>United States dollar</td>\n",
              "    </tr>\n",
              "    <tr>\n",
              "      <th>3</th>\n",
              "      <td>R71329 SR 7</td>\n",
              "      <td>R71329 SR 7</td>\n",
              "      <td>20.40</td>\n",
              "      <td>136307</td>\n",
              "      <td>567</td>\n",
              "      <td>-1.0</td>\n",
              "      <td>2017-01-20</td>\n",
              "      <td>2</td>\n",
              "      <td>United States dollar</td>\n",
              "    </tr>\n",
              "    <tr>\n",
              "      <th>4</th>\n",
              "      <td>R71391 SR 8</td>\n",
              "      <td>R71391 SR 8</td>\n",
              "      <td>6.00</td>\n",
              "      <td>135361</td>\n",
              "      <td>567</td>\n",
              "      <td>-1.0</td>\n",
              "      <td>2017-01-24</td>\n",
              "      <td>2</td>\n",
              "      <td>United States dollar</td>\n",
              "    </tr>\n",
              "    <tr>\n",
              "      <th>...</th>\n",
              "      <td>...</td>\n",
              "      <td>...</td>\n",
              "      <td>...</td>\n",
              "      <td>...</td>\n",
              "      <td>...</td>\n",
              "      <td>...</td>\n",
              "      <td>...</td>\n",
              "      <td>...</td>\n",
              "      <td>...</td>\n",
              "    </tr>\n",
              "    <tr>\n",
              "      <th>1796716</th>\n",
              "      <td>NaN</td>\n",
              "      <td>91000120</td>\n",
              "      <td>135.00</td>\n",
              "      <td>544287</td>\n",
              "      <td>570</td>\n",
              "      <td>1.0</td>\n",
              "      <td>2020-08-07</td>\n",
              "      <td>1</td>\n",
              "      <td>Canadian dollar</td>\n",
              "    </tr>\n",
              "    <tr>\n",
              "      <th>1796717</th>\n",
              "      <td>NaN</td>\n",
              "      <td>91000120</td>\n",
              "      <td>149.00</td>\n",
              "      <td>544287</td>\n",
              "      <td>570</td>\n",
              "      <td>1.0</td>\n",
              "      <td>2020-08-07</td>\n",
              "      <td>1</td>\n",
              "      <td>Canadian dollar</td>\n",
              "    </tr>\n",
              "    <tr>\n",
              "      <th>1796718</th>\n",
              "      <td>NaN</td>\n",
              "      <td>DC-012#3067#AEW02BD</td>\n",
              "      <td>67.00</td>\n",
              "      <td>387073</td>\n",
              "      <td>598</td>\n",
              "      <td>-4.0</td>\n",
              "      <td>2020-08-08</td>\n",
              "      <td>2</td>\n",
              "      <td>United States dollar</td>\n",
              "    </tr>\n",
              "    <tr>\n",
              "      <th>1796719</th>\n",
              "      <td>Bibs pacifier PEACH Size 2</td>\n",
              "      <td>200246</td>\n",
              "      <td>5.50</td>\n",
              "      <td>521256</td>\n",
              "      <td>609</td>\n",
              "      <td>138.0</td>\n",
              "      <td>2020-08-08</td>\n",
              "      <td>1</td>\n",
              "      <td>Canadian dollar</td>\n",
              "    </tr>\n",
              "    <tr>\n",
              "      <th>1796720</th>\n",
              "      <td>Bibs pacifier PEACH Size 2</td>\n",
              "      <td>200246</td>\n",
              "      <td>5.50</td>\n",
              "      <td>521256</td>\n",
              "      <td>609</td>\n",
              "      <td>-105.0</td>\n",
              "      <td>2020-08-08</td>\n",
              "      <td>1</td>\n",
              "      <td>Canadian dollar</td>\n",
              "    </tr>\n",
              "  </tbody>\n",
              "</table>\n",
              "<p>1796721 rows × 9 columns</p>\n",
              "</div>"
            ],
            "text/plain": [
              "                               name  ...       currencies_name\n",
              "0                       R71329 SR 7  ...  United States dollar\n",
              "1                       R71329 SR 7  ...  United States dollar\n",
              "2                       R71329 SR 7  ...  United States dollar\n",
              "3                       R71329 SR 7  ...  United States dollar\n",
              "4                       R71391 SR 8  ...  United States dollar\n",
              "...                             ...  ...                   ...\n",
              "1796716                         NaN  ...       Canadian dollar\n",
              "1796717                         NaN  ...       Canadian dollar\n",
              "1796718                         NaN  ...  United States dollar\n",
              "1796719  Bibs pacifier PEACH Size 2  ...       Canadian dollar\n",
              "1796720  Bibs pacifier PEACH Size 2  ...       Canadian dollar\n",
              "\n",
              "[1796721 rows x 9 columns]"
            ]
          },
          "metadata": {
            "tags": []
          },
          "execution_count": 3
        }
      ]
    },
    {
      "cell_type": "code",
      "metadata": {
        "id": "OM7RTcy0mSPw"
      },
      "source": [
        ""
      ],
      "execution_count": null,
      "outputs": []
    },
    {
      "cell_type": "code",
      "metadata": {
        "id": "mk-JyPZPmejH"
      },
      "source": [],
      "execution_count": null,
      "outputs": []
    },
    {
      "cell_type": "code",
      "metadata": {
        "colab": {
          "base_uri": "https://localhost:8080/",
          "height": 196
        },
        "id": "M2QJuGIT4nlX",
        "outputId": "706e96be-923f-4813-c635-0fa5a151eb1c"
      },
      "source": [
        "versa_sales['transaction_date']=  pd.to_datetime(versa_sales['transaction_date'], errors = 'coerce')\n",
        "versa_sales.head()"
      ],
      "execution_count": null,
      "outputs": [
        {
          "output_type": "execute_result",
          "data": {
            "text/html": [
              "<div>\n",
              "<style scoped>\n",
              "    .dataframe tbody tr th:only-of-type {\n",
              "        vertical-align: middle;\n",
              "    }\n",
              "\n",
              "    .dataframe tbody tr th {\n",
              "        vertical-align: top;\n",
              "    }\n",
              "\n",
              "    .dataframe thead th {\n",
              "        text-align: right;\n",
              "    }\n",
              "</style>\n",
              "<table border=\"1\" class=\"dataframe\">\n",
              "  <thead>\n",
              "    <tr style=\"text-align: right;\">\n",
              "      <th></th>\n",
              "      <th>name</th>\n",
              "      <th>part_number</th>\n",
              "      <th>price</th>\n",
              "      <th>id</th>\n",
              "      <th>firm_id</th>\n",
              "      <th>delta</th>\n",
              "      <th>transaction_date</th>\n",
              "      <th>currency_id</th>\n",
              "      <th>currencies_name</th>\n",
              "    </tr>\n",
              "  </thead>\n",
              "  <tbody>\n",
              "    <tr>\n",
              "      <th>0</th>\n",
              "      <td>R71329 SR 7</td>\n",
              "      <td>R71329 SR 7</td>\n",
              "      <td>6.55</td>\n",
              "      <td>136307</td>\n",
              "      <td>567</td>\n",
              "      <td>-1.0</td>\n",
              "      <td>2017-01-20</td>\n",
              "      <td>2</td>\n",
              "      <td>United States dollar</td>\n",
              "    </tr>\n",
              "    <tr>\n",
              "      <th>1</th>\n",
              "      <td>R71329 SR 7</td>\n",
              "      <td>R71329 SR 7</td>\n",
              "      <td>17.30</td>\n",
              "      <td>136307</td>\n",
              "      <td>567</td>\n",
              "      <td>-1.0</td>\n",
              "      <td>2017-01-20</td>\n",
              "      <td>2</td>\n",
              "      <td>United States dollar</td>\n",
              "    </tr>\n",
              "    <tr>\n",
              "      <th>2</th>\n",
              "      <td>R71329 SR 7</td>\n",
              "      <td>R71329 SR 7</td>\n",
              "      <td>18.85</td>\n",
              "      <td>136307</td>\n",
              "      <td>567</td>\n",
              "      <td>-1.0</td>\n",
              "      <td>2017-01-20</td>\n",
              "      <td>2</td>\n",
              "      <td>United States dollar</td>\n",
              "    </tr>\n",
              "    <tr>\n",
              "      <th>3</th>\n",
              "      <td>R71329 SR 7</td>\n",
              "      <td>R71329 SR 7</td>\n",
              "      <td>20.40</td>\n",
              "      <td>136307</td>\n",
              "      <td>567</td>\n",
              "      <td>-1.0</td>\n",
              "      <td>2017-01-20</td>\n",
              "      <td>2</td>\n",
              "      <td>United States dollar</td>\n",
              "    </tr>\n",
              "    <tr>\n",
              "      <th>4</th>\n",
              "      <td>R71391 SR 8</td>\n",
              "      <td>R71391 SR 8</td>\n",
              "      <td>6.00</td>\n",
              "      <td>135361</td>\n",
              "      <td>567</td>\n",
              "      <td>-1.0</td>\n",
              "      <td>2017-01-24</td>\n",
              "      <td>2</td>\n",
              "      <td>United States dollar</td>\n",
              "    </tr>\n",
              "  </tbody>\n",
              "</table>\n",
              "</div>"
            ],
            "text/plain": [
              "          name  part_number  ...  currency_id       currencies_name\n",
              "0  R71329 SR 7  R71329 SR 7  ...            2  United States dollar\n",
              "1  R71329 SR 7  R71329 SR 7  ...            2  United States dollar\n",
              "2  R71329 SR 7  R71329 SR 7  ...            2  United States dollar\n",
              "3  R71329 SR 7  R71329 SR 7  ...            2  United States dollar\n",
              "4  R71391 SR 8  R71391 SR 8  ...            2  United States dollar\n",
              "\n",
              "[5 rows x 9 columns]"
            ]
          },
          "metadata": {
            "tags": []
          },
          "execution_count": 4
        }
      ]
    },
    {
      "cell_type": "code",
      "metadata": {
        "colab": {
          "base_uri": "https://localhost:8080/",
          "height": 404
        },
        "id": "qKdbd4O8Og4L",
        "outputId": "3c9fb282-8406-4481-abd9-713960c32510"
      },
      "source": [
        "versa_sales_568 = versa_sales[(versa_sales[\"firm_id\"]==568) & (versa_sales[\"delta\"]<0)]\n",
        "versa_sales_568"
      ],
      "execution_count": null,
      "outputs": [
        {
          "output_type": "execute_result",
          "data": {
            "text/html": [
              "<div>\n",
              "<style scoped>\n",
              "    .dataframe tbody tr th:only-of-type {\n",
              "        vertical-align: middle;\n",
              "    }\n",
              "\n",
              "    .dataframe tbody tr th {\n",
              "        vertical-align: top;\n",
              "    }\n",
              "\n",
              "    .dataframe thead th {\n",
              "        text-align: right;\n",
              "    }\n",
              "</style>\n",
              "<table border=\"1\" class=\"dataframe\">\n",
              "  <thead>\n",
              "    <tr style=\"text-align: right;\">\n",
              "      <th></th>\n",
              "      <th>name</th>\n",
              "      <th>part_number</th>\n",
              "      <th>price</th>\n",
              "      <th>id</th>\n",
              "      <th>firm_id</th>\n",
              "      <th>delta</th>\n",
              "      <th>transaction_date</th>\n",
              "      <th>currency_id</th>\n",
              "      <th>currencies_name</th>\n",
              "    </tr>\n",
              "  </thead>\n",
              "  <tbody>\n",
              "    <tr>\n",
              "      <th>309</th>\n",
              "      <td>NaN</td>\n",
              "      <td>COTTAYBEI360</td>\n",
              "      <td>22.11</td>\n",
              "      <td>155810</td>\n",
              "      <td>568</td>\n",
              "      <td>-1.0</td>\n",
              "      <td>2017-03-16</td>\n",
              "      <td>2</td>\n",
              "      <td>United States dollar</td>\n",
              "    </tr>\n",
              "    <tr>\n",
              "      <th>310</th>\n",
              "      <td>NaN</td>\n",
              "      <td>COTTAYBEI360</td>\n",
              "      <td>65.00</td>\n",
              "      <td>155810</td>\n",
              "      <td>568</td>\n",
              "      <td>-1.0</td>\n",
              "      <td>2017-03-16</td>\n",
              "      <td>2</td>\n",
              "      <td>United States dollar</td>\n",
              "    </tr>\n",
              "    <tr>\n",
              "      <th>311</th>\n",
              "      <td>NaN</td>\n",
              "      <td>COTTAYBEI360</td>\n",
              "      <td>145.00</td>\n",
              "      <td>155810</td>\n",
              "      <td>568</td>\n",
              "      <td>-1.0</td>\n",
              "      <td>2017-03-16</td>\n",
              "      <td>2</td>\n",
              "      <td>United States dollar</td>\n",
              "    </tr>\n",
              "    <tr>\n",
              "      <th>312</th>\n",
              "      <td>NaN</td>\n",
              "      <td>COTTAYBEI360</td>\n",
              "      <td>116.00</td>\n",
              "      <td>155810</td>\n",
              "      <td>568</td>\n",
              "      <td>-1.0</td>\n",
              "      <td>2017-03-16</td>\n",
              "      <td>2</td>\n",
              "      <td>United States dollar</td>\n",
              "    </tr>\n",
              "    <tr>\n",
              "      <th>313</th>\n",
              "      <td>NaN</td>\n",
              "      <td>COTTAYBEI500</td>\n",
              "      <td>8.70</td>\n",
              "      <td>155826</td>\n",
              "      <td>568</td>\n",
              "      <td>-1.0</td>\n",
              "      <td>2017-03-16</td>\n",
              "      <td>2</td>\n",
              "      <td>United States dollar</td>\n",
              "    </tr>\n",
              "    <tr>\n",
              "      <th>...</th>\n",
              "      <td>...</td>\n",
              "      <td>...</td>\n",
              "      <td>...</td>\n",
              "      <td>...</td>\n",
              "      <td>...</td>\n",
              "      <td>...</td>\n",
              "      <td>...</td>\n",
              "      <td>...</td>\n",
              "      <td>...</td>\n",
              "    </tr>\n",
              "    <tr>\n",
              "      <th>1796609</th>\n",
              "      <td>NaN</td>\n",
              "      <td>COTPERSLT340</td>\n",
              "      <td>18.99</td>\n",
              "      <td>486970</td>\n",
              "      <td>568</td>\n",
              "      <td>-1.0</td>\n",
              "      <td>2020-08-07</td>\n",
              "      <td>2</td>\n",
              "      <td>United States dollar</td>\n",
              "    </tr>\n",
              "    <tr>\n",
              "      <th>1796663</th>\n",
              "      <td>NaN</td>\n",
              "      <td>LINCAMLIL300</td>\n",
              "      <td>88.25</td>\n",
              "      <td>507686</td>\n",
              "      <td>568</td>\n",
              "      <td>-1.0</td>\n",
              "      <td>2020-08-07</td>\n",
              "      <td>3</td>\n",
              "      <td>European Euro</td>\n",
              "    </tr>\n",
              "    <tr>\n",
              "      <th>1796664</th>\n",
              "      <td>NaN</td>\n",
              "      <td>LINCAMLIL300</td>\n",
              "      <td>360.00</td>\n",
              "      <td>507686</td>\n",
              "      <td>568</td>\n",
              "      <td>-1.0</td>\n",
              "      <td>2020-08-07</td>\n",
              "      <td>2</td>\n",
              "      <td>United States dollar</td>\n",
              "    </tr>\n",
              "    <tr>\n",
              "      <th>1796665</th>\n",
              "      <td>NaN</td>\n",
              "      <td>LINCAMLIL300</td>\n",
              "      <td>450.00</td>\n",
              "      <td>507686</td>\n",
              "      <td>568</td>\n",
              "      <td>-1.0</td>\n",
              "      <td>2020-08-07</td>\n",
              "      <td>2</td>\n",
              "      <td>United States dollar</td>\n",
              "    </tr>\n",
              "    <tr>\n",
              "      <th>1796666</th>\n",
              "      <td>NaN</td>\n",
              "      <td>LINCAMLIL300</td>\n",
              "      <td>200.00</td>\n",
              "      <td>507686</td>\n",
              "      <td>568</td>\n",
              "      <td>-1.0</td>\n",
              "      <td>2020-08-07</td>\n",
              "      <td>2</td>\n",
              "      <td>United States dollar</td>\n",
              "    </tr>\n",
              "  </tbody>\n",
              "</table>\n",
              "<p>201454 rows × 9 columns</p>\n",
              "</div>"
            ],
            "text/plain": [
              "        name   part_number  ...  currency_id       currencies_name\n",
              "309      NaN  COTTAYBEI360  ...            2  United States dollar\n",
              "310      NaN  COTTAYBEI360  ...            2  United States dollar\n",
              "311      NaN  COTTAYBEI360  ...            2  United States dollar\n",
              "312      NaN  COTTAYBEI360  ...            2  United States dollar\n",
              "313      NaN  COTTAYBEI500  ...            2  United States dollar\n",
              "...      ...           ...  ...          ...                   ...\n",
              "1796609  NaN  COTPERSLT340  ...            2  United States dollar\n",
              "1796663  NaN  LINCAMLIL300  ...            3         European Euro\n",
              "1796664  NaN  LINCAMLIL300  ...            2  United States dollar\n",
              "1796665  NaN  LINCAMLIL300  ...            2  United States dollar\n",
              "1796666  NaN  LINCAMLIL300  ...            2  United States dollar\n",
              "\n",
              "[201454 rows x 9 columns]"
            ]
          },
          "metadata": {
            "tags": []
          },
          "execution_count": 5
        }
      ]
    },
    {
      "cell_type": "code",
      "metadata": {
        "id": "I6DJN7nZp0wZ",
        "colab": {
          "base_uri": "https://localhost:8080/",
          "height": 288
        },
        "outputId": "65fa20bd-b852-4620-cf43-4215b4896e83"
      },
      "source": [
        "versa_sales_568.describe()"
      ],
      "execution_count": null,
      "outputs": [
        {
          "output_type": "execute_result",
          "data": {
            "text/html": [
              "<div>\n",
              "<style scoped>\n",
              "    .dataframe tbody tr th:only-of-type {\n",
              "        vertical-align: middle;\n",
              "    }\n",
              "\n",
              "    .dataframe tbody tr th {\n",
              "        vertical-align: top;\n",
              "    }\n",
              "\n",
              "    .dataframe thead th {\n",
              "        text-align: right;\n",
              "    }\n",
              "</style>\n",
              "<table border=\"1\" class=\"dataframe\">\n",
              "  <thead>\n",
              "    <tr style=\"text-align: right;\">\n",
              "      <th></th>\n",
              "      <th>price</th>\n",
              "      <th>id</th>\n",
              "      <th>firm_id</th>\n",
              "      <th>delta</th>\n",
              "      <th>currency_id</th>\n",
              "    </tr>\n",
              "  </thead>\n",
              "  <tbody>\n",
              "    <tr>\n",
              "      <th>count</th>\n",
              "      <td>201454.000000</td>\n",
              "      <td>201454.000000</td>\n",
              "      <td>201454.0</td>\n",
              "      <td>201454.000000</td>\n",
              "      <td>201454.000000</td>\n",
              "    </tr>\n",
              "    <tr>\n",
              "      <th>mean</th>\n",
              "      <td>118.381073</td>\n",
              "      <td>277448.138662</td>\n",
              "      <td>568.0</td>\n",
              "      <td>-1.733741</td>\n",
              "      <td>2.070061</td>\n",
              "    </tr>\n",
              "    <tr>\n",
              "      <th>std</th>\n",
              "      <td>123.206278</td>\n",
              "      <td>136139.095416</td>\n",
              "      <td>0.0</td>\n",
              "      <td>3.870100</td>\n",
              "      <td>0.255250</td>\n",
              "    </tr>\n",
              "    <tr>\n",
              "      <th>min</th>\n",
              "      <td>0.000000</td>\n",
              "      <td>153724.000000</td>\n",
              "      <td>568.0</td>\n",
              "      <td>-569.000000</td>\n",
              "      <td>2.000000</td>\n",
              "    </tr>\n",
              "    <tr>\n",
              "      <th>25%</th>\n",
              "      <td>40.000000</td>\n",
              "      <td>157822.000000</td>\n",
              "      <td>568.0</td>\n",
              "      <td>-2.000000</td>\n",
              "      <td>2.000000</td>\n",
              "    </tr>\n",
              "    <tr>\n",
              "      <th>50%</th>\n",
              "      <td>85.000000</td>\n",
              "      <td>182552.000000</td>\n",
              "      <td>568.0</td>\n",
              "      <td>-1.000000</td>\n",
              "      <td>2.000000</td>\n",
              "    </tr>\n",
              "    <tr>\n",
              "      <th>75%</th>\n",
              "      <td>150.000000</td>\n",
              "      <td>383521.000000</td>\n",
              "      <td>568.0</td>\n",
              "      <td>-1.000000</td>\n",
              "      <td>2.000000</td>\n",
              "    </tr>\n",
              "    <tr>\n",
              "      <th>max</th>\n",
              "      <td>4100.000000</td>\n",
              "      <td>544135.000000</td>\n",
              "      <td>568.0</td>\n",
              "      <td>-1.000000</td>\n",
              "      <td>3.000000</td>\n",
              "    </tr>\n",
              "  </tbody>\n",
              "</table>\n",
              "</div>"
            ],
            "text/plain": [
              "               price             id   firm_id          delta    currency_id\n",
              "count  201454.000000  201454.000000  201454.0  201454.000000  201454.000000\n",
              "mean      118.381073  277448.138662     568.0      -1.733741       2.070061\n",
              "std       123.206278  136139.095416       0.0       3.870100       0.255250\n",
              "min         0.000000  153724.000000     568.0    -569.000000       2.000000\n",
              "25%        40.000000  157822.000000     568.0      -2.000000       2.000000\n",
              "50%        85.000000  182552.000000     568.0      -1.000000       2.000000\n",
              "75%       150.000000  383521.000000     568.0      -1.000000       2.000000\n",
              "max      4100.000000  544135.000000     568.0      -1.000000       3.000000"
            ]
          },
          "metadata": {
            "tags": []
          },
          "execution_count": 22
        }
      ]
    },
    {
      "cell_type": "code",
      "metadata": {
        "id": "rh9TV9EESoNV",
        "colab": {
          "base_uri": "https://localhost:8080/"
        },
        "outputId": "0b80fcd1-1aca-49bb-d752-ef773d17161a"
      },
      "source": [
        "versa_sales_568[\"delta\"] = versa_sales_568[\"delta\"].abs()"
      ],
      "execution_count": null,
      "outputs": [
        {
          "output_type": "stream",
          "text": [
            "/usr/local/lib/python3.7/dist-packages/ipykernel_launcher.py:1: SettingWithCopyWarning: \n",
            "A value is trying to be set on a copy of a slice from a DataFrame.\n",
            "Try using .loc[row_indexer,col_indexer] = value instead\n",
            "\n",
            "See the caveats in the documentation: https://pandas.pydata.org/pandas-docs/stable/user_guide/indexing.html#returning-a-view-versus-a-copy\n",
            "  \"\"\"Entry point for launching an IPython kernel.\n"
          ],
          "name": "stderr"
        }
      ]
    },
    {
      "cell_type": "code",
      "metadata": {
        "id": "Wf3GuN-QZV_y"
      },
      "source": [
        "versa_sales_568 = versa_sales_568.drop(['firm_id'], axis=1)"
      ],
      "execution_count": null,
      "outputs": []
    },
    {
      "cell_type": "code",
      "metadata": {
        "id": "5AH47zyGo4sk"
      },
      "source": [
        "versa_sales_568['transaction_date'] = versa_sales_568.transaction_date.dt.to_period(\"M\")"
      ],
      "execution_count": null,
      "outputs": []
    },
    {
      "cell_type": "code",
      "metadata": {
        "id": "Pqsx0CVwpRbr"
      },
      "source": [
        "versa_sales_568 = versa_sales_568.groupby(['id', 'part_number', 'price', 'currency_id','transaction_date' ], as_index=False).sum()"
      ],
      "execution_count": null,
      "outputs": []
    },
    {
      "cell_type": "code",
      "metadata": {
        "colab": {
          "base_uri": "https://localhost:8080/"
        },
        "id": "ABmkO4cRbC4O",
        "outputId": "8038cb44-3599-4d86-c727-8c1f065e512a"
      },
      "source": [
        "versa_sales_568.delta.value_counts()"
      ],
      "execution_count": null,
      "outputs": [
        {
          "output_type": "execute_result",
          "data": {
            "text/plain": [
              "1.0      88319\n",
              "2.0      34315\n",
              "3.0      10781\n",
              "4.0       6962\n",
              "5.0       3181\n",
              "         ...  \n",
              "78.0         1\n",
              "64.0         1\n",
              "92.0         1\n",
              "184.0        1\n",
              "74.0         1\n",
              "Name: delta, Length: 83, dtype: int64"
            ]
          },
          "metadata": {
            "tags": []
          },
          "execution_count": 27
        }
      ]
    },
    {
      "cell_type": "markdown",
      "metadata": {
        "id": "cv0kkvGf73In"
      },
      "source": [
        "#Obsolete items\n",
        "Next step is to remove **obsolete items** first\n",
        "Look at all items that have been in the system for 24 months or more, and then mark what we haven't sold any in those 24 months as obsolete."
      ]
    },
    {
      "cell_type": "code",
      "metadata": {
        "id": "3BAbBu0cfdFn"
      },
      "source": [
        "today = pd.to_datetime(\"today\")\n",
        "obsolete_time = (today - pd.DateOffset(years=2)).to_period(\"M\")"
      ],
      "execution_count": null,
      "outputs": []
    },
    {
      "cell_type": "code",
      "metadata": {
        "id": "oxGIMKSc8Khn"
      },
      "source": [
        "obsolete_items = versa_sales_568[versa_sales_568['transaction_date']<obsolete_time]\n",
        "versa_sales_568 = versa_sales_568[versa_sales_568['transaction_date']>obsolete_time]"
      ],
      "execution_count": null,
      "outputs": []
    },
    {
      "cell_type": "code",
      "metadata": {
        "colab": {
          "base_uri": "https://localhost:8080/",
          "height": 407
        },
        "id": "MwpAuAfUMIqp",
        "outputId": "e6d20f05-5aad-4d25-879a-e791c1f78cf6"
      },
      "source": [
        "obsolete_items"
      ],
      "execution_count": null,
      "outputs": [
        {
          "output_type": "execute_result",
          "data": {
            "text/html": [
              "<div>\n",
              "<style scoped>\n",
              "    .dataframe tbody tr th:only-of-type {\n",
              "        vertical-align: middle;\n",
              "    }\n",
              "\n",
              "    .dataframe tbody tr th {\n",
              "        vertical-align: top;\n",
              "    }\n",
              "\n",
              "    .dataframe thead th {\n",
              "        text-align: right;\n",
              "    }\n",
              "</style>\n",
              "<table border=\"1\" class=\"dataframe\">\n",
              "  <thead>\n",
              "    <tr style=\"text-align: right;\">\n",
              "      <th></th>\n",
              "      <th>id</th>\n",
              "      <th>part_number</th>\n",
              "      <th>price</th>\n",
              "      <th>currency_id</th>\n",
              "      <th>transaction_date</th>\n",
              "      <th>delta</th>\n",
              "    </tr>\n",
              "  </thead>\n",
              "  <tbody>\n",
              "    <tr>\n",
              "      <th>0</th>\n",
              "      <td>153724</td>\n",
              "      <td>AAALPALIEBNONE</td>\n",
              "      <td>49.0</td>\n",
              "      <td>2</td>\n",
              "      <td>2019-01</td>\n",
              "      <td>1.0</td>\n",
              "    </tr>\n",
              "    <tr>\n",
              "      <th>3</th>\n",
              "      <td>153724</td>\n",
              "      <td>AAALPALIEBNONE</td>\n",
              "      <td>100.0</td>\n",
              "      <td>2</td>\n",
              "      <td>2019-01</td>\n",
              "      <td>1.0</td>\n",
              "    </tr>\n",
              "    <tr>\n",
              "      <th>6</th>\n",
              "      <td>153724</td>\n",
              "      <td>AAALPALIEBNONE</td>\n",
              "      <td>160.0</td>\n",
              "      <td>2</td>\n",
              "      <td>2019-01</td>\n",
              "      <td>1.0</td>\n",
              "    </tr>\n",
              "    <tr>\n",
              "      <th>9</th>\n",
              "      <td>153724</td>\n",
              "      <td>AAALPALIEBNONE</td>\n",
              "      <td>200.0</td>\n",
              "      <td>2</td>\n",
              "      <td>2019-01</td>\n",
              "      <td>1.0</td>\n",
              "    </tr>\n",
              "    <tr>\n",
              "      <th>12</th>\n",
              "      <td>153725</td>\n",
              "      <td>AAALPALIEBNONE</td>\n",
              "      <td>49.0</td>\n",
              "      <td>2</td>\n",
              "      <td>2017-03</td>\n",
              "      <td>1.0</td>\n",
              "    </tr>\n",
              "    <tr>\n",
              "      <th>...</th>\n",
              "      <td>...</td>\n",
              "      <td>...</td>\n",
              "      <td>...</td>\n",
              "      <td>...</td>\n",
              "      <td>...</td>\n",
              "      <td>...</td>\n",
              "    </tr>\n",
              "    <tr>\n",
              "      <th>118778</th>\n",
              "      <td>423902</td>\n",
              "      <td>COTINDMIX090</td>\n",
              "      <td>165.0</td>\n",
              "      <td>2</td>\n",
              "      <td>2019-02</td>\n",
              "      <td>1.0</td>\n",
              "    </tr>\n",
              "    <tr>\n",
              "      <th>118779</th>\n",
              "      <td>423903</td>\n",
              "      <td>COTINDMIX300</td>\n",
              "      <td>47.9</td>\n",
              "      <td>2</td>\n",
              "      <td>2019-02</td>\n",
              "      <td>1.0</td>\n",
              "    </tr>\n",
              "    <tr>\n",
              "      <th>118780</th>\n",
              "      <td>423903</td>\n",
              "      <td>COTINDMIX300</td>\n",
              "      <td>130.0</td>\n",
              "      <td>2</td>\n",
              "      <td>2019-02</td>\n",
              "      <td>1.0</td>\n",
              "    </tr>\n",
              "    <tr>\n",
              "      <th>118781</th>\n",
              "      <td>423903</td>\n",
              "      <td>COTINDMIX300</td>\n",
              "      <td>232.0</td>\n",
              "      <td>2</td>\n",
              "      <td>2019-02</td>\n",
              "      <td>1.0</td>\n",
              "    </tr>\n",
              "    <tr>\n",
              "      <th>118782</th>\n",
              "      <td>423903</td>\n",
              "      <td>COTINDMIX300</td>\n",
              "      <td>290.0</td>\n",
              "      <td>2</td>\n",
              "      <td>2019-02</td>\n",
              "      <td>1.0</td>\n",
              "    </tr>\n",
              "  </tbody>\n",
              "</table>\n",
              "<p>96768 rows × 6 columns</p>\n",
              "</div>"
            ],
            "text/plain": [
              "            id     part_number  price  currency_id transaction_date  delta\n",
              "0       153724  AAALPALIEBNONE   49.0            2          2019-01    1.0\n",
              "3       153724  AAALPALIEBNONE  100.0            2          2019-01    1.0\n",
              "6       153724  AAALPALIEBNONE  160.0            2          2019-01    1.0\n",
              "9       153724  AAALPALIEBNONE  200.0            2          2019-01    1.0\n",
              "12      153725  AAALPALIEBNONE   49.0            2          2017-03    1.0\n",
              "...        ...             ...    ...          ...              ...    ...\n",
              "118778  423902    COTINDMIX090  165.0            2          2019-02    1.0\n",
              "118779  423903    COTINDMIX300   47.9            2          2019-02    1.0\n",
              "118780  423903    COTINDMIX300  130.0            2          2019-02    1.0\n",
              "118781  423903    COTINDMIX300  232.0            2          2019-02    1.0\n",
              "118782  423903    COTINDMIX300  290.0            2          2019-02    1.0\n",
              "\n",
              "[96768 rows x 6 columns]"
            ]
          },
          "metadata": {
            "tags": []
          },
          "execution_count": 30
        }
      ]
    },
    {
      "cell_type": "markdown",
      "metadata": {
        "id": "dyLKq-fu8MIM"
      },
      "source": [
        "#Non-stocked items\n",
        "Remove **Non-stocked** items Look at all items that have been in the system for 12 months or more that we’ve only only sold them in 3 or less of those months as non-stocked."
      ]
    },
    {
      "cell_type": "code",
      "metadata": {
        "id": "GekGwqck-R3D"
      },
      "source": [],
      "execution_count": null,
      "outputs": []
    },
    {
      "cell_type": "code",
      "metadata": {
        "colab": {
          "base_uri": "https://localhost:8080/",
          "height": 404
        },
        "id": "rgLFqRWE8zzu",
        "outputId": "bda53ed1-3288-4fe5-ba6f-32e33e57bb1f"
      },
      "source": [
        "versa_sales_568[(versa_sales_568['transaction_date'] < (today - pd.DateOffset(years=1)).to_period(\"M\"))]"
      ],
      "execution_count": null,
      "outputs": [
        {
          "output_type": "execute_result",
          "data": {
            "text/html": [
              "<div>\n",
              "<style scoped>\n",
              "    .dataframe tbody tr th:only-of-type {\n",
              "        vertical-align: middle;\n",
              "    }\n",
              "\n",
              "    .dataframe tbody tr th {\n",
              "        vertical-align: top;\n",
              "    }\n",
              "\n",
              "    .dataframe thead th {\n",
              "        text-align: right;\n",
              "    }\n",
              "</style>\n",
              "<table border=\"1\" class=\"dataframe\">\n",
              "  <thead>\n",
              "    <tr style=\"text-align: right;\">\n",
              "      <th></th>\n",
              "      <th>id</th>\n",
              "      <th>part_number</th>\n",
              "      <th>price</th>\n",
              "      <th>currency_id</th>\n",
              "      <th>transaction_date</th>\n",
              "      <th>delta</th>\n",
              "    </tr>\n",
              "  </thead>\n",
              "  <tbody>\n",
              "    <tr>\n",
              "      <th>1</th>\n",
              "      <td>153724</td>\n",
              "      <td>AAALPALIEBNONE</td>\n",
              "      <td>49.00</td>\n",
              "      <td>2</td>\n",
              "      <td>2019-10</td>\n",
              "      <td>1.0</td>\n",
              "    </tr>\n",
              "    <tr>\n",
              "      <th>2</th>\n",
              "      <td>153724</td>\n",
              "      <td>AAALPALIEBNONE</td>\n",
              "      <td>49.00</td>\n",
              "      <td>2</td>\n",
              "      <td>2020-01</td>\n",
              "      <td>1.0</td>\n",
              "    </tr>\n",
              "    <tr>\n",
              "      <th>4</th>\n",
              "      <td>153724</td>\n",
              "      <td>AAALPALIEBNONE</td>\n",
              "      <td>100.00</td>\n",
              "      <td>2</td>\n",
              "      <td>2019-10</td>\n",
              "      <td>1.0</td>\n",
              "    </tr>\n",
              "    <tr>\n",
              "      <th>5</th>\n",
              "      <td>153724</td>\n",
              "      <td>AAALPALIEBNONE</td>\n",
              "      <td>100.00</td>\n",
              "      <td>2</td>\n",
              "      <td>2020-01</td>\n",
              "      <td>1.0</td>\n",
              "    </tr>\n",
              "    <tr>\n",
              "      <th>7</th>\n",
              "      <td>153724</td>\n",
              "      <td>AAALPALIEBNONE</td>\n",
              "      <td>160.00</td>\n",
              "      <td>2</td>\n",
              "      <td>2019-10</td>\n",
              "      <td>1.0</td>\n",
              "    </tr>\n",
              "    <tr>\n",
              "      <th>...</th>\n",
              "      <td>...</td>\n",
              "      <td>...</td>\n",
              "      <td>...</td>\n",
              "      <td>...</td>\n",
              "      <td>...</td>\n",
              "      <td>...</td>\n",
              "    </tr>\n",
              "    <tr>\n",
              "      <th>145775</th>\n",
              "      <td>510832</td>\n",
              "      <td>COTPERPOR400</td>\n",
              "      <td>275.00</td>\n",
              "      <td>2</td>\n",
              "      <td>2020-02</td>\n",
              "      <td>1.0</td>\n",
              "    </tr>\n",
              "    <tr>\n",
              "      <th>146354</th>\n",
              "      <td>513439</td>\n",
              "      <td>AALINJUNBLKMED</td>\n",
              "      <td>30.15</td>\n",
              "      <td>3</td>\n",
              "      <td>2020-02</td>\n",
              "      <td>1.0</td>\n",
              "    </tr>\n",
              "    <tr>\n",
              "      <th>146355</th>\n",
              "      <td>513439</td>\n",
              "      <td>AALINJUNBLKMED</td>\n",
              "      <td>65.00</td>\n",
              "      <td>2</td>\n",
              "      <td>2020-02</td>\n",
              "      <td>1.0</td>\n",
              "    </tr>\n",
              "    <tr>\n",
              "      <th>146356</th>\n",
              "      <td>513439</td>\n",
              "      <td>AALINJUNBLKMED</td>\n",
              "      <td>88.00</td>\n",
              "      <td>2</td>\n",
              "      <td>2020-02</td>\n",
              "      <td>1.0</td>\n",
              "    </tr>\n",
              "    <tr>\n",
              "      <th>146357</th>\n",
              "      <td>513439</td>\n",
              "      <td>AALINJUNBLKMED</td>\n",
              "      <td>110.00</td>\n",
              "      <td>2</td>\n",
              "      <td>2020-02</td>\n",
              "      <td>1.0</td>\n",
              "    </tr>\n",
              "  </tbody>\n",
              "</table>\n",
              "<p>35435 rows × 6 columns</p>\n",
              "</div>"
            ],
            "text/plain": [
              "            id     part_number   price  currency_id transaction_date  delta\n",
              "1       153724  AAALPALIEBNONE   49.00            2          2019-10    1.0\n",
              "2       153724  AAALPALIEBNONE   49.00            2          2020-01    1.0\n",
              "4       153724  AAALPALIEBNONE  100.00            2          2019-10    1.0\n",
              "5       153724  AAALPALIEBNONE  100.00            2          2020-01    1.0\n",
              "7       153724  AAALPALIEBNONE  160.00            2          2019-10    1.0\n",
              "...        ...             ...     ...          ...              ...    ...\n",
              "145775  510832    COTPERPOR400  275.00            2          2020-02    1.0\n",
              "146354  513439  AALINJUNBLKMED   30.15            3          2020-02    1.0\n",
              "146355  513439  AALINJUNBLKMED   65.00            2          2020-02    1.0\n",
              "146356  513439  AALINJUNBLKMED   88.00            2          2020-02    1.0\n",
              "146357  513439  AALINJUNBLKMED  110.00            2          2020-02    1.0\n",
              "\n",
              "[35435 rows x 6 columns]"
            ]
          },
          "metadata": {
            "tags": []
          },
          "execution_count": 65
        }
      ]
    },
    {
      "cell_type": "code",
      "metadata": {
        "colab": {
          "base_uri": "https://localhost:8080/"
        },
        "id": "kqybywq-FY1q",
        "outputId": "1bb109c5-af25-4aa0-e8be-5a1735d64de6"
      },
      "source": [
        "versa_sales_568['id'].count()"
      ],
      "execution_count": null,
      "outputs": [
        {
          "output_type": "execute_result",
          "data": {
            "text/plain": [
              "51393"
            ]
          },
          "metadata": {
            "tags": []
          },
          "execution_count": 67
        }
      ]
    },
    {
      "cell_type": "code",
      "metadata": {
        "id": "8JXj9QeVvLT3"
      },
      "source": [
        "from google.cloud import bigquery"
      ],
      "execution_count": null,
      "outputs": []
    },
    {
      "cell_type": "code",
      "metadata": {
        "colab": {
          "base_uri": "https://localhost:8080/"
        },
        "id": "wVy6qtO7Awzs",
        "outputId": "453ca0c5-82e0-4750-8614-e5701becb529"
      },
      "source": [
        "(versa_sales_568.groupby(versa_sales_568['id']).sum().delta > 3)"
      ],
      "execution_count": null,
      "outputs": [
        {
          "output_type": "execute_result",
          "data": {
            "text/plain": [
              "id\n",
              "153724    True\n",
              "153739    True\n",
              "153750    True\n",
              "153753    True\n",
              "153760    True\n",
              "          ... \n",
              "544131    True\n",
              "544132    True\n",
              "544133    True\n",
              "544134    True\n",
              "544135    True\n",
              "Name: delta, Length: 9648, dtype: bool"
            ]
          },
          "metadata": {
            "tags": []
          },
          "execution_count": 47
        }
      ]
    },
    {
      "cell_type": "code",
      "metadata": {
        "colab": {
          "base_uri": "https://localhost:8080/",
          "height": 404
        },
        "id": "J9c-Rpoou0S1",
        "outputId": "76242542-5763-4a10-f82f-d122e18690b9"
      },
      "source": [
        "versa_sales_568 = versa_sales_568[versa_sales_568['transaction_date']>'2019-01-01']\n",
        "versa_sales_568"
      ],
      "execution_count": null,
      "outputs": [
        {
          "output_type": "execute_result",
          "data": {
            "text/html": [
              "<div>\n",
              "<style scoped>\n",
              "    .dataframe tbody tr th:only-of-type {\n",
              "        vertical-align: middle;\n",
              "    }\n",
              "\n",
              "    .dataframe tbody tr th {\n",
              "        vertical-align: top;\n",
              "    }\n",
              "\n",
              "    .dataframe thead th {\n",
              "        text-align: right;\n",
              "    }\n",
              "</style>\n",
              "<table border=\"1\" class=\"dataframe\">\n",
              "  <thead>\n",
              "    <tr style=\"text-align: right;\">\n",
              "      <th></th>\n",
              "      <th>id</th>\n",
              "      <th>part_number</th>\n",
              "      <th>price</th>\n",
              "      <th>currency_id</th>\n",
              "      <th>transaction_date</th>\n",
              "      <th>delta</th>\n",
              "    </tr>\n",
              "  </thead>\n",
              "  <tbody>\n",
              "    <tr>\n",
              "      <th>1</th>\n",
              "      <td>153724</td>\n",
              "      <td>AAALPALIEBNONE</td>\n",
              "      <td>49.0</td>\n",
              "      <td>2</td>\n",
              "      <td>2019-10</td>\n",
              "      <td>1.0</td>\n",
              "    </tr>\n",
              "    <tr>\n",
              "      <th>2</th>\n",
              "      <td>153724</td>\n",
              "      <td>AAALPALIEBNONE</td>\n",
              "      <td>49.0</td>\n",
              "      <td>2</td>\n",
              "      <td>2020-01</td>\n",
              "      <td>1.0</td>\n",
              "    </tr>\n",
              "    <tr>\n",
              "      <th>4</th>\n",
              "      <td>153724</td>\n",
              "      <td>AAALPALIEBNONE</td>\n",
              "      <td>100.0</td>\n",
              "      <td>2</td>\n",
              "      <td>2019-10</td>\n",
              "      <td>1.0</td>\n",
              "    </tr>\n",
              "    <tr>\n",
              "      <th>5</th>\n",
              "      <td>153724</td>\n",
              "      <td>AAALPALIEBNONE</td>\n",
              "      <td>100.0</td>\n",
              "      <td>2</td>\n",
              "      <td>2020-01</td>\n",
              "      <td>1.0</td>\n",
              "    </tr>\n",
              "    <tr>\n",
              "      <th>7</th>\n",
              "      <td>153724</td>\n",
              "      <td>AAALPALIEBNONE</td>\n",
              "      <td>160.0</td>\n",
              "      <td>2</td>\n",
              "      <td>2019-10</td>\n",
              "      <td>1.0</td>\n",
              "    </tr>\n",
              "    <tr>\n",
              "      <th>...</th>\n",
              "      <td>...</td>\n",
              "      <td>...</td>\n",
              "      <td>...</td>\n",
              "      <td>...</td>\n",
              "      <td>...</td>\n",
              "      <td>...</td>\n",
              "    </tr>\n",
              "    <tr>\n",
              "      <th>153458</th>\n",
              "      <td>544134</td>\n",
              "      <td>ALPLIAPOP800</td>\n",
              "      <td>175.0</td>\n",
              "      <td>2</td>\n",
              "      <td>2020-08</td>\n",
              "      <td>2.0</td>\n",
              "    </tr>\n",
              "    <tr>\n",
              "      <th>153459</th>\n",
              "      <td>544135</td>\n",
              "      <td>ALPCOLCHR800</td>\n",
              "      <td>20.5</td>\n",
              "      <td>2</td>\n",
              "      <td>2020-08</td>\n",
              "      <td>1.0</td>\n",
              "    </tr>\n",
              "    <tr>\n",
              "      <th>153460</th>\n",
              "      <td>544135</td>\n",
              "      <td>ALPCOLCHR800</td>\n",
              "      <td>78.0</td>\n",
              "      <td>2</td>\n",
              "      <td>2020-08</td>\n",
              "      <td>1.0</td>\n",
              "    </tr>\n",
              "    <tr>\n",
              "      <th>153461</th>\n",
              "      <td>544135</td>\n",
              "      <td>ALPCOLCHR800</td>\n",
              "      <td>140.0</td>\n",
              "      <td>2</td>\n",
              "      <td>2020-08</td>\n",
              "      <td>1.0</td>\n",
              "    </tr>\n",
              "    <tr>\n",
              "      <th>153462</th>\n",
              "      <td>544135</td>\n",
              "      <td>ALPCOLCHR800</td>\n",
              "      <td>175.0</td>\n",
              "      <td>2</td>\n",
              "      <td>2020-08</td>\n",
              "      <td>1.0</td>\n",
              "    </tr>\n",
              "  </tbody>\n",
              "</table>\n",
              "<p>59475 rows × 6 columns</p>\n",
              "</div>"
            ],
            "text/plain": [
              "            id     part_number  price  currency_id transaction_date  delta\n",
              "1       153724  AAALPALIEBNONE   49.0            2          2019-10    1.0\n",
              "2       153724  AAALPALIEBNONE   49.0            2          2020-01    1.0\n",
              "4       153724  AAALPALIEBNONE  100.0            2          2019-10    1.0\n",
              "5       153724  AAALPALIEBNONE  100.0            2          2020-01    1.0\n",
              "7       153724  AAALPALIEBNONE  160.0            2          2019-10    1.0\n",
              "...        ...             ...    ...          ...              ...    ...\n",
              "153458  544134    ALPLIAPOP800  175.0            2          2020-08    2.0\n",
              "153459  544135    ALPCOLCHR800   20.5            2          2020-08    1.0\n",
              "153460  544135    ALPCOLCHR800   78.0            2          2020-08    1.0\n",
              "153461  544135    ALPCOLCHR800  140.0            2          2020-08    1.0\n",
              "153462  544135    ALPCOLCHR800  175.0            2          2020-08    1.0\n",
              "\n",
              "[59475 rows x 6 columns]"
            ]
          },
          "metadata": {
            "tags": []
          },
          "execution_count": 14
        }
      ]
    },
    {
      "cell_type": "code",
      "metadata": {
        "id": "g5rMM-LT8zEW"
      },
      "source": [],
      "execution_count": null,
      "outputs": []
    },
    {
      "cell_type": "markdown",
      "metadata": {
        "id": "Xa6hv6Zou0pu"
      },
      "source": [
        "#ABC analysis\n",
        "For an effective ABC analysis, you have to take two things into account:\n",
        "\n",
        "1.   The cost of the item\n",
        "2.   How fast the item moves\n",
        "\n"
      ]
    },
    {
      "cell_type": "code",
      "metadata": {
        "colab": {
          "base_uri": "https://localhost:8080/",
          "height": 407
        },
        "id": "5dndW58tWP7w",
        "outputId": "c636a9e7-3a41-45ea-f5b9-f305ef2efbde"
      },
      "source": [
        "versa_sales_568"
      ],
      "execution_count": null,
      "outputs": [
        {
          "output_type": "execute_result",
          "data": {
            "text/html": [
              "<div>\n",
              "<style scoped>\n",
              "    .dataframe tbody tr th:only-of-type {\n",
              "        vertical-align: middle;\n",
              "    }\n",
              "\n",
              "    .dataframe tbody tr th {\n",
              "        vertical-align: top;\n",
              "    }\n",
              "\n",
              "    .dataframe thead th {\n",
              "        text-align: right;\n",
              "    }\n",
              "</style>\n",
              "<table border=\"1\" class=\"dataframe\">\n",
              "  <thead>\n",
              "    <tr style=\"text-align: right;\">\n",
              "      <th></th>\n",
              "      <th>id</th>\n",
              "      <th>part_number</th>\n",
              "      <th>price</th>\n",
              "      <th>currency_id</th>\n",
              "      <th>transaction_date</th>\n",
              "      <th>delta</th>\n",
              "    </tr>\n",
              "  </thead>\n",
              "  <tbody>\n",
              "    <tr>\n",
              "      <th>1</th>\n",
              "      <td>153724</td>\n",
              "      <td>AAALPALIEBNONE</td>\n",
              "      <td>49.0</td>\n",
              "      <td>2</td>\n",
              "      <td>2019-10</td>\n",
              "      <td>1.0</td>\n",
              "    </tr>\n",
              "    <tr>\n",
              "      <th>2</th>\n",
              "      <td>153724</td>\n",
              "      <td>AAALPALIEBNONE</td>\n",
              "      <td>49.0</td>\n",
              "      <td>2</td>\n",
              "      <td>2020-01</td>\n",
              "      <td>1.0</td>\n",
              "    </tr>\n",
              "    <tr>\n",
              "      <th>4</th>\n",
              "      <td>153724</td>\n",
              "      <td>AAALPALIEBNONE</td>\n",
              "      <td>100.0</td>\n",
              "      <td>2</td>\n",
              "      <td>2019-10</td>\n",
              "      <td>1.0</td>\n",
              "    </tr>\n",
              "    <tr>\n",
              "      <th>5</th>\n",
              "      <td>153724</td>\n",
              "      <td>AAALPALIEBNONE</td>\n",
              "      <td>100.0</td>\n",
              "      <td>2</td>\n",
              "      <td>2020-01</td>\n",
              "      <td>1.0</td>\n",
              "    </tr>\n",
              "    <tr>\n",
              "      <th>7</th>\n",
              "      <td>153724</td>\n",
              "      <td>AAALPALIEBNONE</td>\n",
              "      <td>160.0</td>\n",
              "      <td>2</td>\n",
              "      <td>2019-10</td>\n",
              "      <td>1.0</td>\n",
              "    </tr>\n",
              "    <tr>\n",
              "      <th>...</th>\n",
              "      <td>...</td>\n",
              "      <td>...</td>\n",
              "      <td>...</td>\n",
              "      <td>...</td>\n",
              "      <td>...</td>\n",
              "      <td>...</td>\n",
              "    </tr>\n",
              "    <tr>\n",
              "      <th>153458</th>\n",
              "      <td>544134</td>\n",
              "      <td>ALPLIAPOP800</td>\n",
              "      <td>175.0</td>\n",
              "      <td>2</td>\n",
              "      <td>2020-08</td>\n",
              "      <td>2.0</td>\n",
              "    </tr>\n",
              "    <tr>\n",
              "      <th>153459</th>\n",
              "      <td>544135</td>\n",
              "      <td>ALPCOLCHR800</td>\n",
              "      <td>20.5</td>\n",
              "      <td>2</td>\n",
              "      <td>2020-08</td>\n",
              "      <td>1.0</td>\n",
              "    </tr>\n",
              "    <tr>\n",
              "      <th>153460</th>\n",
              "      <td>544135</td>\n",
              "      <td>ALPCOLCHR800</td>\n",
              "      <td>78.0</td>\n",
              "      <td>2</td>\n",
              "      <td>2020-08</td>\n",
              "      <td>1.0</td>\n",
              "    </tr>\n",
              "    <tr>\n",
              "      <th>153461</th>\n",
              "      <td>544135</td>\n",
              "      <td>ALPCOLCHR800</td>\n",
              "      <td>140.0</td>\n",
              "      <td>2</td>\n",
              "      <td>2020-08</td>\n",
              "      <td>1.0</td>\n",
              "    </tr>\n",
              "    <tr>\n",
              "      <th>153462</th>\n",
              "      <td>544135</td>\n",
              "      <td>ALPCOLCHR800</td>\n",
              "      <td>175.0</td>\n",
              "      <td>2</td>\n",
              "      <td>2020-08</td>\n",
              "      <td>1.0</td>\n",
              "    </tr>\n",
              "  </tbody>\n",
              "</table>\n",
              "<p>51393 rows × 6 columns</p>\n",
              "</div>"
            ],
            "text/plain": [
              "            id     part_number  price  currency_id transaction_date  delta\n",
              "1       153724  AAALPALIEBNONE   49.0            2          2019-10    1.0\n",
              "2       153724  AAALPALIEBNONE   49.0            2          2020-01    1.0\n",
              "4       153724  AAALPALIEBNONE  100.0            2          2019-10    1.0\n",
              "5       153724  AAALPALIEBNONE  100.0            2          2020-01    1.0\n",
              "7       153724  AAALPALIEBNONE  160.0            2          2019-10    1.0\n",
              "...        ...             ...    ...          ...              ...    ...\n",
              "153458  544134    ALPLIAPOP800  175.0            2          2020-08    2.0\n",
              "153459  544135    ALPCOLCHR800   20.5            2          2020-08    1.0\n",
              "153460  544135    ALPCOLCHR800   78.0            2          2020-08    1.0\n",
              "153461  544135    ALPCOLCHR800  140.0            2          2020-08    1.0\n",
              "153462  544135    ALPCOLCHR800  175.0            2          2020-08    1.0\n",
              "\n",
              "[51393 rows x 6 columns]"
            ]
          },
          "metadata": {
            "tags": []
          },
          "execution_count": 31
        }
      ]
    },
    {
      "cell_type": "code",
      "metadata": {
        "id": "a1Uk4tyegrjC"
      },
      "source": [],
      "execution_count": null,
      "outputs": []
    },
    {
      "cell_type": "code",
      "metadata": {
        "id": "1Ec3NaAuh-Fa"
      },
      "source": [
        "if (versa_sales_568['currency_id']==2).any():\n",
        "    versa_sales_568['revenue'] = versa_sales_568.price * versa_sales_568.delta\n",
        "elif (versa_sales_568['currency_id']==3).any():\n",
        "     versa_sales_568['revenue'] = versa_sales_568.price * versa_sales_568.delta * 1.41"
      ],
      "execution_count": null,
      "outputs": []
    },
    {
      "cell_type": "code",
      "metadata": {
        "id": "jzcY9BfRv7ht"
      },
      "source": [
        "    versa_sales_568['revenue'] = versa_sales_568.price * versa_sales_568.delta"
      ],
      "execution_count": null,
      "outputs": []
    },
    {
      "cell_type": "code",
      "metadata": {
        "colab": {
          "base_uri": "https://localhost:8080/",
          "height": 620
        },
        "id": "Q7bFkMSOhBV_",
        "outputId": "cd0270c5-da84-46e3-83ce-10a6dd4af90c"
      },
      "source": [
        "if (versa_sales_568['currency_id']==3).any():\n",
        "    print(high)"
      ],
      "execution_count": null,
      "outputs": [
        {
          "output_type": "error",
          "ename": "KeyError",
          "evalue": "ignored",
          "traceback": [
            "\u001b[0;31m---------------------------------------------------------------------------\u001b[0m",
            "\u001b[0;31mKeyError\u001b[0m                                  Traceback (most recent call last)",
            "\u001b[0;32m/usr/local/lib/python3.7/dist-packages/pandas/core/indexes/base.py\u001b[0m in \u001b[0;36mget_loc\u001b[0;34m(self, key, method, tolerance)\u001b[0m\n\u001b[1;32m   2897\u001b[0m             \u001b[0;32mtry\u001b[0m\u001b[0;34m:\u001b[0m\u001b[0;34m\u001b[0m\u001b[0;34m\u001b[0m\u001b[0m\n\u001b[0;32m-> 2898\u001b[0;31m                 \u001b[0;32mreturn\u001b[0m \u001b[0mself\u001b[0m\u001b[0;34m.\u001b[0m\u001b[0m_engine\u001b[0m\u001b[0;34m.\u001b[0m\u001b[0mget_loc\u001b[0m\u001b[0;34m(\u001b[0m\u001b[0mcasted_key\u001b[0m\u001b[0;34m)\u001b[0m\u001b[0;34m\u001b[0m\u001b[0;34m\u001b[0m\u001b[0m\n\u001b[0m\u001b[1;32m   2899\u001b[0m             \u001b[0;32mexcept\u001b[0m \u001b[0mKeyError\u001b[0m \u001b[0;32mas\u001b[0m \u001b[0merr\u001b[0m\u001b[0;34m:\u001b[0m\u001b[0;34m\u001b[0m\u001b[0;34m\u001b[0m\u001b[0m\n",
            "\u001b[0;32mpandas/_libs/index.pyx\u001b[0m in \u001b[0;36mpandas._libs.index.IndexEngine.get_loc\u001b[0;34m()\u001b[0m\n",
            "\u001b[0;32mpandas/_libs/index.pyx\u001b[0m in \u001b[0;36mpandas._libs.index.IndexEngine.get_loc\u001b[0;34m()\u001b[0m\n",
            "\u001b[0;32mpandas/_libs/hashtable_class_helper.pxi\u001b[0m in \u001b[0;36mpandas._libs.hashtable.PyObjectHashTable.get_item\u001b[0;34m()\u001b[0m\n",
            "\u001b[0;32mpandas/_libs/hashtable_class_helper.pxi\u001b[0m in \u001b[0;36mpandas._libs.hashtable.PyObjectHashTable.get_item\u001b[0;34m()\u001b[0m\n",
            "\u001b[0;31mKeyError\u001b[0m: 'currency_id'",
            "\nThe above exception was the direct cause of the following exception:\n",
            "\u001b[0;31mKeyError\u001b[0m                                  Traceback (most recent call last)",
            "\u001b[0;32m<ipython-input-73-ead585ded227>\u001b[0m in \u001b[0;36m<module>\u001b[0;34m()\u001b[0m\n\u001b[0;32m----> 1\u001b[0;31m \u001b[0;32mif\u001b[0m \u001b[0;34m(\u001b[0m\u001b[0mversa_sales_568\u001b[0m\u001b[0;34m[\u001b[0m\u001b[0;34m'currency_id'\u001b[0m\u001b[0;34m]\u001b[0m\u001b[0;34m==\u001b[0m\u001b[0;36m3\u001b[0m\u001b[0;34m)\u001b[0m\u001b[0;34m.\u001b[0m\u001b[0many\u001b[0m\u001b[0;34m(\u001b[0m\u001b[0;34m)\u001b[0m\u001b[0;34m:\u001b[0m\u001b[0;34m\u001b[0m\u001b[0;34m\u001b[0m\u001b[0m\n\u001b[0m\u001b[1;32m      2\u001b[0m     \u001b[0mprint\u001b[0m\u001b[0;34m(\u001b[0m\u001b[0mhigh\u001b[0m\u001b[0;34m)\u001b[0m\u001b[0;34m\u001b[0m\u001b[0;34m\u001b[0m\u001b[0m\n",
            "\u001b[0;32m/usr/local/lib/python3.7/dist-packages/pandas/core/frame.py\u001b[0m in \u001b[0;36m__getitem__\u001b[0;34m(self, key)\u001b[0m\n\u001b[1;32m   2904\u001b[0m             \u001b[0;32mif\u001b[0m \u001b[0mself\u001b[0m\u001b[0;34m.\u001b[0m\u001b[0mcolumns\u001b[0m\u001b[0;34m.\u001b[0m\u001b[0mnlevels\u001b[0m \u001b[0;34m>\u001b[0m \u001b[0;36m1\u001b[0m\u001b[0;34m:\u001b[0m\u001b[0;34m\u001b[0m\u001b[0;34m\u001b[0m\u001b[0m\n\u001b[1;32m   2905\u001b[0m                 \u001b[0;32mreturn\u001b[0m \u001b[0mself\u001b[0m\u001b[0;34m.\u001b[0m\u001b[0m_getitem_multilevel\u001b[0m\u001b[0;34m(\u001b[0m\u001b[0mkey\u001b[0m\u001b[0;34m)\u001b[0m\u001b[0;34m\u001b[0m\u001b[0;34m\u001b[0m\u001b[0m\n\u001b[0;32m-> 2906\u001b[0;31m             \u001b[0mindexer\u001b[0m \u001b[0;34m=\u001b[0m \u001b[0mself\u001b[0m\u001b[0;34m.\u001b[0m\u001b[0mcolumns\u001b[0m\u001b[0;34m.\u001b[0m\u001b[0mget_loc\u001b[0m\u001b[0;34m(\u001b[0m\u001b[0mkey\u001b[0m\u001b[0;34m)\u001b[0m\u001b[0;34m\u001b[0m\u001b[0;34m\u001b[0m\u001b[0m\n\u001b[0m\u001b[1;32m   2907\u001b[0m             \u001b[0;32mif\u001b[0m \u001b[0mis_integer\u001b[0m\u001b[0;34m(\u001b[0m\u001b[0mindexer\u001b[0m\u001b[0;34m)\u001b[0m\u001b[0;34m:\u001b[0m\u001b[0;34m\u001b[0m\u001b[0;34m\u001b[0m\u001b[0m\n\u001b[1;32m   2908\u001b[0m                 \u001b[0mindexer\u001b[0m \u001b[0;34m=\u001b[0m \u001b[0;34m[\u001b[0m\u001b[0mindexer\u001b[0m\u001b[0;34m]\u001b[0m\u001b[0;34m\u001b[0m\u001b[0;34m\u001b[0m\u001b[0m\n",
            "\u001b[0;32m/usr/local/lib/python3.7/dist-packages/pandas/core/indexes/base.py\u001b[0m in \u001b[0;36mget_loc\u001b[0;34m(self, key, method, tolerance)\u001b[0m\n\u001b[1;32m   2898\u001b[0m                 \u001b[0;32mreturn\u001b[0m \u001b[0mself\u001b[0m\u001b[0;34m.\u001b[0m\u001b[0m_engine\u001b[0m\u001b[0;34m.\u001b[0m\u001b[0mget_loc\u001b[0m\u001b[0;34m(\u001b[0m\u001b[0mcasted_key\u001b[0m\u001b[0;34m)\u001b[0m\u001b[0;34m\u001b[0m\u001b[0;34m\u001b[0m\u001b[0m\n\u001b[1;32m   2899\u001b[0m             \u001b[0;32mexcept\u001b[0m \u001b[0mKeyError\u001b[0m \u001b[0;32mas\u001b[0m \u001b[0merr\u001b[0m\u001b[0;34m:\u001b[0m\u001b[0;34m\u001b[0m\u001b[0;34m\u001b[0m\u001b[0m\n\u001b[0;32m-> 2900\u001b[0;31m                 \u001b[0;32mraise\u001b[0m \u001b[0mKeyError\u001b[0m\u001b[0;34m(\u001b[0m\u001b[0mkey\u001b[0m\u001b[0;34m)\u001b[0m \u001b[0;32mfrom\u001b[0m \u001b[0merr\u001b[0m\u001b[0;34m\u001b[0m\u001b[0;34m\u001b[0m\u001b[0m\n\u001b[0m\u001b[1;32m   2901\u001b[0m \u001b[0;34m\u001b[0m\u001b[0m\n\u001b[1;32m   2902\u001b[0m         \u001b[0;32mif\u001b[0m \u001b[0mtolerance\u001b[0m \u001b[0;32mis\u001b[0m \u001b[0;32mnot\u001b[0m \u001b[0;32mNone\u001b[0m\u001b[0;34m:\u001b[0m\u001b[0;34m\u001b[0m\u001b[0;34m\u001b[0m\u001b[0m\n",
            "\u001b[0;31mKeyError\u001b[0m: 'currency_id'"
          ]
        }
      ]
    },
    {
      "cell_type": "code",
      "metadata": {
        "colab": {
          "base_uri": "https://localhost:8080/",
          "height": 407
        },
        "id": "r1Z8YTvgnRXf",
        "outputId": "b100a12b-ac13-455b-c82c-48e688c0a54f"
      },
      "source": [
        "versa_sales_568"
      ],
      "execution_count": null,
      "outputs": [
        {
          "output_type": "execute_result",
          "data": {
            "text/html": [
              "<div>\n",
              "<style scoped>\n",
              "    .dataframe tbody tr th:only-of-type {\n",
              "        vertical-align: middle;\n",
              "    }\n",
              "\n",
              "    .dataframe tbody tr th {\n",
              "        vertical-align: top;\n",
              "    }\n",
              "\n",
              "    .dataframe thead th {\n",
              "        text-align: right;\n",
              "    }\n",
              "</style>\n",
              "<table border=\"1\" class=\"dataframe\">\n",
              "  <thead>\n",
              "    <tr style=\"text-align: right;\">\n",
              "      <th></th>\n",
              "      <th>id</th>\n",
              "      <th>part_number</th>\n",
              "      <th>price</th>\n",
              "      <th>currency_id</th>\n",
              "      <th>transaction_date</th>\n",
              "      <th>delta</th>\n",
              "      <th>revenue</th>\n",
              "    </tr>\n",
              "  </thead>\n",
              "  <tbody>\n",
              "    <tr>\n",
              "      <th>1</th>\n",
              "      <td>153724</td>\n",
              "      <td>AAALPALIEBNONE</td>\n",
              "      <td>49.0</td>\n",
              "      <td>2</td>\n",
              "      <td>2019-10</td>\n",
              "      <td>1.0</td>\n",
              "      <td>49.0</td>\n",
              "    </tr>\n",
              "    <tr>\n",
              "      <th>2</th>\n",
              "      <td>153724</td>\n",
              "      <td>AAALPALIEBNONE</td>\n",
              "      <td>49.0</td>\n",
              "      <td>2</td>\n",
              "      <td>2020-01</td>\n",
              "      <td>1.0</td>\n",
              "      <td>49.0</td>\n",
              "    </tr>\n",
              "    <tr>\n",
              "      <th>4</th>\n",
              "      <td>153724</td>\n",
              "      <td>AAALPALIEBNONE</td>\n",
              "      <td>100.0</td>\n",
              "      <td>2</td>\n",
              "      <td>2019-10</td>\n",
              "      <td>1.0</td>\n",
              "      <td>100.0</td>\n",
              "    </tr>\n",
              "    <tr>\n",
              "      <th>5</th>\n",
              "      <td>153724</td>\n",
              "      <td>AAALPALIEBNONE</td>\n",
              "      <td>100.0</td>\n",
              "      <td>2</td>\n",
              "      <td>2020-01</td>\n",
              "      <td>1.0</td>\n",
              "      <td>100.0</td>\n",
              "    </tr>\n",
              "    <tr>\n",
              "      <th>7</th>\n",
              "      <td>153724</td>\n",
              "      <td>AAALPALIEBNONE</td>\n",
              "      <td>160.0</td>\n",
              "      <td>2</td>\n",
              "      <td>2019-10</td>\n",
              "      <td>1.0</td>\n",
              "      <td>160.0</td>\n",
              "    </tr>\n",
              "    <tr>\n",
              "      <th>...</th>\n",
              "      <td>...</td>\n",
              "      <td>...</td>\n",
              "      <td>...</td>\n",
              "      <td>...</td>\n",
              "      <td>...</td>\n",
              "      <td>...</td>\n",
              "      <td>...</td>\n",
              "    </tr>\n",
              "    <tr>\n",
              "      <th>153458</th>\n",
              "      <td>544134</td>\n",
              "      <td>ALPLIAPOP800</td>\n",
              "      <td>175.0</td>\n",
              "      <td>2</td>\n",
              "      <td>2020-08</td>\n",
              "      <td>2.0</td>\n",
              "      <td>350.0</td>\n",
              "    </tr>\n",
              "    <tr>\n",
              "      <th>153459</th>\n",
              "      <td>544135</td>\n",
              "      <td>ALPCOLCHR800</td>\n",
              "      <td>20.5</td>\n",
              "      <td>2</td>\n",
              "      <td>2020-08</td>\n",
              "      <td>1.0</td>\n",
              "      <td>20.5</td>\n",
              "    </tr>\n",
              "    <tr>\n",
              "      <th>153460</th>\n",
              "      <td>544135</td>\n",
              "      <td>ALPCOLCHR800</td>\n",
              "      <td>78.0</td>\n",
              "      <td>2</td>\n",
              "      <td>2020-08</td>\n",
              "      <td>1.0</td>\n",
              "      <td>78.0</td>\n",
              "    </tr>\n",
              "    <tr>\n",
              "      <th>153461</th>\n",
              "      <td>544135</td>\n",
              "      <td>ALPCOLCHR800</td>\n",
              "      <td>140.0</td>\n",
              "      <td>2</td>\n",
              "      <td>2020-08</td>\n",
              "      <td>1.0</td>\n",
              "      <td>140.0</td>\n",
              "    </tr>\n",
              "    <tr>\n",
              "      <th>153462</th>\n",
              "      <td>544135</td>\n",
              "      <td>ALPCOLCHR800</td>\n",
              "      <td>175.0</td>\n",
              "      <td>2</td>\n",
              "      <td>2020-08</td>\n",
              "      <td>1.0</td>\n",
              "      <td>175.0</td>\n",
              "    </tr>\n",
              "  </tbody>\n",
              "</table>\n",
              "<p>51393 rows × 7 columns</p>\n",
              "</div>"
            ],
            "text/plain": [
              "            id     part_number  price  ...  transaction_date delta  revenue\n",
              "1       153724  AAALPALIEBNONE   49.0  ...           2019-10   1.0     49.0\n",
              "2       153724  AAALPALIEBNONE   49.0  ...           2020-01   1.0     49.0\n",
              "4       153724  AAALPALIEBNONE  100.0  ...           2019-10   1.0    100.0\n",
              "5       153724  AAALPALIEBNONE  100.0  ...           2020-01   1.0    100.0\n",
              "7       153724  AAALPALIEBNONE  160.0  ...           2019-10   1.0    160.0\n",
              "...        ...             ...    ...  ...               ...   ...      ...\n",
              "153458  544134    ALPLIAPOP800  175.0  ...           2020-08   2.0    350.0\n",
              "153459  544135    ALPCOLCHR800   20.5  ...           2020-08   1.0     20.5\n",
              "153460  544135    ALPCOLCHR800   78.0  ...           2020-08   1.0     78.0\n",
              "153461  544135    ALPCOLCHR800  140.0  ...           2020-08   1.0    140.0\n",
              "153462  544135    ALPCOLCHR800  175.0  ...           2020-08   1.0    175.0\n",
              "\n",
              "[51393 rows x 7 columns]"
            ]
          },
          "metadata": {
            "tags": []
          },
          "execution_count": 33
        }
      ]
    },
    {
      "cell_type": "code",
      "metadata": {
        "id": "0S9k-dA3ndS6"
      },
      "source": [
        "versa_sales_568_abc = versa_sales_568.sort_values(by='revenue', ascending=False)"
      ],
      "execution_count": null,
      "outputs": []
    },
    {
      "cell_type": "code",
      "metadata": {
        "id": "hwJALgEZrkfy"
      },
      "source": [
        "n = len(versa_sales_568_abc)"
      ],
      "execution_count": null,
      "outputs": []
    },
    {
      "cell_type": "code",
      "metadata": {
        "id": "jDyL2FigraU1"
      },
      "source": [
        "A, B, C = np.split(versa_sales_568_abc, [int(.2*n), int(.5*n)])"
      ],
      "execution_count": null,
      "outputs": []
    },
    {
      "cell_type": "code",
      "metadata": {
        "colab": {
          "base_uri": "https://localhost:8080/"
        },
        "id": "KyqOOY6owCPs",
        "outputId": "2807681b-f63d-4449-c4f5-a5b318b212d0"
      },
      "source": [
        "A['revenue'].sum().astype(int)"
      ],
      "execution_count": null,
      "outputs": [
        {
          "output_type": "execute_result",
          "data": {
            "text/plain": [
              "7056980"
            ]
          },
          "metadata": {
            "tags": []
          },
          "execution_count": 42
        }
      ]
    },
    {
      "cell_type": "code",
      "metadata": {
        "colab": {
          "base_uri": "https://localhost:8080/"
        },
        "id": "OrPu5T51rtBQ",
        "outputId": "bb49dfeb-8bde-4a6d-aae3-2bdeff820b83"
      },
      "source": [
        "print(A, B, C)"
      ],
      "execution_count": null,
      "outputs": [
        {
          "output_type": "stream",
          "text": [
            "            id      part_number  price  ...  transaction_date  delta  revenue\n",
            "116001  385095     MAGMORGRYLRG  130.0  ...           2020-01  296.0  38480.0\n",
            "115998  385095     MAGMORGRYLRG  105.6  ...           2020-01  296.0  31257.6\n",
            "132037  477768  TRVCOTBRDWGR055   49.8  ...           2019-06  569.0  28336.2\n",
            "116010  385096     MAGMORGRYMED   90.0  ...           2020-01  298.0  26820.0\n",
            "116007  385096     MAGMORGRYMED   72.0  ...           2020-01  298.0  21456.0\n",
            "...        ...              ...    ...  ...               ...    ...      ...\n",
            "126980  469589     LINELILIM400  320.0  ...           2019-04    1.0    320.0\n",
            "134504  487032     COTPERPOR500   64.0  ...           2019-08    5.0    320.0\n",
            "147403  514087     LINELICHR400  320.0  ...           2020-03    1.0    320.0\n",
            "127775  471061     LINSWEBLU400  160.0  ...           2019-04    2.0    320.0\n",
            "31748   156588     LINLOUNAT465  320.0  ...           2020-03    1.0    320.0\n",
            "\n",
            "[11895 rows x 7 columns]             id   part_number  price  ...  transaction_date delta  revenue\n",
            "31744   156587  LINLOUNAT465  320.0  ...           2020-07   1.0    320.0\n",
            "136922  491266  LINEMICHR460  320.0  ...           2019-11   1.0    320.0\n",
            "135079  488046  LINELILIM400  320.0  ...           2020-03   1.0    320.0\n",
            "136918  491265  LINEMICHR465  320.0  ...           2019-11   1.0    320.0\n",
            "72536   171053  COTSLYKHI300  160.0  ...           2019-03   2.0    320.0\n",
            "...        ...           ...    ...  ...               ...   ...      ...\n",
            "33334   156780  LINSMNGRY500  135.0  ...           2020-01   1.0    135.0\n",
            "94377   350852  LININSSND520  135.0  ...           2019-03   1.0    135.0\n",
            "80142   204110  MAGMORGRYMED   45.0  ...           2020-01   3.0    135.0\n",
            "94421   350853  LINSMNMID500  135.0  ...           2019-11   1.0    135.0\n",
            "31028   156515  LININSWHT520  135.0  ...           2020-02   1.0    135.0\n",
            "\n",
            "[17842 rows x 7 columns]             id   part_number  price  ...  transaction_date delta  revenue\n",
            "135190  488229  COTMAYBLK300  135.0  ...           2019-09   1.0    135.0\n",
            "33331   156780  LINSMNGRY500  135.0  ...           2019-02   1.0    135.0\n",
            "33332   156780  LINSMNGRY500  135.0  ...           2019-08   1.0    135.0\n",
            "77229   200262  LINEDTIND960  135.0  ...           2020-03   1.0    135.0\n",
            "29615   156388  LINEMIMON500  135.0  ...           2020-07   1.0    135.0\n",
            "...        ...           ...    ...  ...               ...   ...      ...\n",
            "150211  518121  COTJULWHT700    0.0  ...           2020-06   1.0      0.0\n",
            "113230  381987  LINSMNGRY700    0.0  ...           2020-08   1.0      0.0\n",
            "145949  513238  COTJULWHT700    0.0  ...           2020-03   9.0      0.0\n",
            "150212  518121  COTJULWHT700    0.0  ...           2020-07   3.0      0.0\n",
            "146941  513916  COTJULWHT700    0.0  ...           2020-03   8.0      0.0\n",
            "\n",
            "[29738 rows x 7 columns]\n"
          ],
          "name": "stdout"
        }
      ]
    },
    {
      "cell_type": "markdown",
      "metadata": {
        "id": "sH1sW48ju8xc"
      },
      "source": [
        "#High, Medium and Low velocity items\n",
        "After, ABC analysis for your inventory, but sometimes you have some really important items that will fall into the C category. That means we have to address the classification from another angle."
      ]
    },
    {
      "cell_type": "code",
      "metadata": {
        "id": "m53GaxMNtHFb",
        "colab": {
          "base_uri": "https://localhost:8080/",
          "height": 424
        },
        "outputId": "51a7e6b5-1221-4b33-995b-209cb225f059"
      },
      "source": [
        " versa_sales_568_hml= versa_sales_568.sort_values(by='delta', ascending=False)\n",
        "versa_sales_568_hml"
      ],
      "execution_count": null,
      "outputs": [
        {
          "output_type": "execute_result",
          "data": {
            "text/html": [
              "<div>\n",
              "<style scoped>\n",
              "    .dataframe tbody tr th:only-of-type {\n",
              "        vertical-align: middle;\n",
              "    }\n",
              "\n",
              "    .dataframe tbody tr th {\n",
              "        vertical-align: top;\n",
              "    }\n",
              "\n",
              "    .dataframe thead th {\n",
              "        text-align: right;\n",
              "    }\n",
              "</style>\n",
              "<table border=\"1\" class=\"dataframe\">\n",
              "  <thead>\n",
              "    <tr style=\"text-align: right;\">\n",
              "      <th></th>\n",
              "      <th>id</th>\n",
              "      <th>part_number</th>\n",
              "      <th>price</th>\n",
              "      <th>currency_id</th>\n",
              "      <th>transaction_date</th>\n",
              "      <th>delta</th>\n",
              "      <th>revenue</th>\n",
              "    </tr>\n",
              "  </thead>\n",
              "  <tbody>\n",
              "    <tr>\n",
              "      <th>132037</th>\n",
              "      <td>477768</td>\n",
              "      <td>TRVCOTBRDWGR055</td>\n",
              "      <td>49.80</td>\n",
              "      <td>2</td>\n",
              "      <td>2019-06</td>\n",
              "      <td>569.0</td>\n",
              "      <td>28336.20</td>\n",
              "    </tr>\n",
              "    <tr>\n",
              "      <th>131492</th>\n",
              "      <td>476551</td>\n",
              "      <td>PLITRVFD1115</td>\n",
              "      <td>7.50</td>\n",
              "      <td>2</td>\n",
              "      <td>2019-09</td>\n",
              "      <td>569.0</td>\n",
              "      <td>4267.50</td>\n",
              "    </tr>\n",
              "    <tr>\n",
              "      <th>132036</th>\n",
              "      <td>477768</td>\n",
              "      <td>TRVCOTBRDWGR055</td>\n",
              "      <td>12.67</td>\n",
              "      <td>2</td>\n",
              "      <td>2019-06</td>\n",
              "      <td>569.0</td>\n",
              "      <td>7209.23</td>\n",
              "    </tr>\n",
              "    <tr>\n",
              "      <th>116004</th>\n",
              "      <td>385096</td>\n",
              "      <td>MAGMORGRYMED</td>\n",
              "      <td>45.00</td>\n",
              "      <td>2</td>\n",
              "      <td>2020-01</td>\n",
              "      <td>298.0</td>\n",
              "      <td>13410.00</td>\n",
              "    </tr>\n",
              "    <tr>\n",
              "      <th>116010</th>\n",
              "      <td>385096</td>\n",
              "      <td>MAGMORGRYMED</td>\n",
              "      <td>90.00</td>\n",
              "      <td>2</td>\n",
              "      <td>2020-01</td>\n",
              "      <td>298.0</td>\n",
              "      <td>26820.00</td>\n",
              "    </tr>\n",
              "    <tr>\n",
              "      <th>...</th>\n",
              "      <td>...</td>\n",
              "      <td>...</td>\n",
              "      <td>...</td>\n",
              "      <td>...</td>\n",
              "      <td>...</td>\n",
              "      <td>...</td>\n",
              "      <td>...</td>\n",
              "    </tr>\n",
              "    <tr>\n",
              "      <th>128669</th>\n",
              "      <td>471680</td>\n",
              "      <td>COTPERPOR340</td>\n",
              "      <td>116.00</td>\n",
              "      <td>2</td>\n",
              "      <td>2019-05</td>\n",
              "      <td>1.0</td>\n",
              "      <td>116.00</td>\n",
              "    </tr>\n",
              "    <tr>\n",
              "      <th>98161</th>\n",
              "      <td>352607</td>\n",
              "      <td>COTPERSLT340</td>\n",
              "      <td>116.00</td>\n",
              "      <td>2</td>\n",
              "      <td>2020-04</td>\n",
              "      <td>1.0</td>\n",
              "      <td>116.00</td>\n",
              "    </tr>\n",
              "    <tr>\n",
              "      <th>98162</th>\n",
              "      <td>352607</td>\n",
              "      <td>COTPERSLT340</td>\n",
              "      <td>116.00</td>\n",
              "      <td>2</td>\n",
              "      <td>2020-06</td>\n",
              "      <td>1.0</td>\n",
              "      <td>116.00</td>\n",
              "    </tr>\n",
              "    <tr>\n",
              "      <th>128670</th>\n",
              "      <td>471680</td>\n",
              "      <td>COTPERPOR340</td>\n",
              "      <td>116.00</td>\n",
              "      <td>2</td>\n",
              "      <td>2019-06</td>\n",
              "      <td>1.0</td>\n",
              "      <td>116.00</td>\n",
              "    </tr>\n",
              "    <tr>\n",
              "      <th>132701</th>\n",
              "      <td>479606</td>\n",
              "      <td>LINJULAMB500</td>\n",
              "      <td>135.00</td>\n",
              "      <td>2</td>\n",
              "      <td>2019-09</td>\n",
              "      <td>1.0</td>\n",
              "      <td>135.00</td>\n",
              "    </tr>\n",
              "  </tbody>\n",
              "</table>\n",
              "<p>59475 rows × 7 columns</p>\n",
              "</div>"
            ],
            "text/plain": [
              "            id      part_number   price  ...  transaction_date  delta   revenue\n",
              "132037  477768  TRVCOTBRDWGR055   49.80  ...           2019-06  569.0  28336.20\n",
              "131492  476551     PLITRVFD1115    7.50  ...           2019-09  569.0   4267.50\n",
              "132036  477768  TRVCOTBRDWGR055   12.67  ...           2019-06  569.0   7209.23\n",
              "116004  385096     MAGMORGRYMED   45.00  ...           2020-01  298.0  13410.00\n",
              "116010  385096     MAGMORGRYMED   90.00  ...           2020-01  298.0  26820.00\n",
              "...        ...              ...     ...  ...               ...    ...       ...\n",
              "128669  471680     COTPERPOR340  116.00  ...           2019-05    1.0    116.00\n",
              "98161   352607     COTPERSLT340  116.00  ...           2020-04    1.0    116.00\n",
              "98162   352607     COTPERSLT340  116.00  ...           2020-06    1.0    116.00\n",
              "128670  471680     COTPERPOR340  116.00  ...           2019-06    1.0    116.00\n",
              "132701  479606     LINJULAMB500  135.00  ...           2019-09    1.0    135.00\n",
              "\n",
              "[59475 rows x 7 columns]"
            ]
          },
          "metadata": {
            "tags": []
          },
          "execution_count": 23
        }
      ]
    },
    {
      "cell_type": "code",
      "metadata": {
        "id": "_jEWi9fnCzmV"
      },
      "source": [
        "n = len(versa_sales_568_hml)"
      ],
      "execution_count": null,
      "outputs": []
    },
    {
      "cell_type": "code",
      "metadata": {
        "id": "--5NTGtlkHY2"
      },
      "source": [
        "sum = versa_sales_568_hml.delta.sum()"
      ],
      "execution_count": null,
      "outputs": []
    },
    {
      "cell_type": "code",
      "metadata": {
        "colab": {
          "base_uri": "https://localhost:8080/"
        },
        "id": "hKloXeZIkQxs",
        "outputId": "c6754885-5beb-44ca-ee96-b76d6424a5b3"
      },
      "source": [
        "sum"
      ],
      "execution_count": null,
      "outputs": [
        {
          "output_type": "execute_result",
          "data": {
            "text/plain": [
              "137333.0"
            ]
          },
          "metadata": {
            "tags": []
          },
          "execution_count": 27
        }
      ]
    },
    {
      "cell_type": "code",
      "metadata": {
        "id": "D2k0AFuCBwP6"
      },
      "source": [
        "high, medium, low = np.split(versa_sales_568_hml, [int(.2*n), int(.5*n)])"
      ],
      "execution_count": null,
      "outputs": []
    },
    {
      "cell_type": "code",
      "metadata": {
        "colab": {
          "base_uri": "https://localhost:8080/"
        },
        "id": "41QV5baXiETO",
        "outputId": "b493494e-1bcb-4c4b-ee39-8c15e830fd24"
      },
      "source": [
        "print(high, medium, low)"
      ],
      "execution_count": null,
      "outputs": [
        {
          "output_type": "stream",
          "text": [
            "            id      part_number  price  ...  transaction_date  delta   revenue\n",
            "132037  477768  TRVCOTBRDWGR055  49.80  ...           2019-06  569.0  28336.20\n",
            "131492  476551     PLITRVFD1115   7.50  ...           2019-09  569.0   4267.50\n",
            "132036  477768  TRVCOTBRDWGR055  12.67  ...           2019-06  569.0   7209.23\n",
            "116004  385096     MAGMORGRYMED  45.00  ...           2020-01  298.0  13410.00\n",
            "116010  385096     MAGMORGRYMED  90.00  ...           2020-01  298.0  26820.00\n",
            "...        ...              ...    ...  ...               ...    ...       ...\n",
            "142326  502595     COTPERHON360  18.99  ...           2020-01    3.0     56.97\n",
            "107892  374916     COTPERSTN360  18.99  ...           2020-03    3.0     56.97\n",
            "59819   166658     ALPLIASPI800  78.00  ...           2020-03    3.0    234.00\n",
            "98133   352607     COTPERSLT340  18.99  ...           2019-09    3.0     56.97\n",
            "126093  468731     COTPERCEL360  18.99  ...           2019-12    3.0     56.97\n",
            "\n",
            "[11895 rows x 7 columns]             id      part_number  price  ...  transaction_date delta  revenue\n",
            "66222   169324     COTPERCEL360  18.99  ...           2019-05   3.0    56.97\n",
            "126097  468731     COTPERCEL360  18.99  ...           2020-05   3.0    56.97\n",
            "135922  490041     ALPLIABLU800  78.00  ...           2019-12   3.0   234.00\n",
            "107889  374916     COTPERSTN360  18.99  ...           2019-12   3.0    56.97\n",
            "71617   170837     ALPLIAPOP800  78.00  ...           2019-05   3.0   234.00\n",
            "...        ...              ...    ...  ...               ...   ...      ...\n",
            "132414  478439     COTPERWHT440  75.00  ...           2019-07   1.0    75.00\n",
            "144274  507374  AALINMIACHRLMED  75.00  ...           2020-07   1.0    75.00\n",
            "101090  355091     COTHETCOA465  75.00  ...           2019-03   1.0    75.00\n",
            "133380  482175     LINLOUBLU300  75.00  ...           2020-01   1.0    75.00\n",
            "139377  496790     COTLINORA440  75.00  ...           2019-11   1.0    75.00\n",
            "\n",
            "[17842 rows x 7 columns]             id   part_number  price  ...  transaction_date delta  revenue\n",
            "86027   303099  BLNELIPEP260   75.0  ...           2019-03   1.0     75.0\n",
            "140521  497445  COTPERWHT440   75.0  ...           2019-11   1.0     75.0\n",
            "134620  487059  COTPARBLU460   75.0  ...           2020-01   1.0     75.0\n",
            "138952  495015  COTPERPOR440   75.0  ...           2020-01   1.0     75.0\n",
            "134622  487059  COTPARBLU460   75.0  ...           2020-07   1.0     75.0\n",
            "...        ...           ...    ...  ...               ...   ...      ...\n",
            "128669  471680  COTPERPOR340  116.0  ...           2019-05   1.0    116.0\n",
            "98161   352607  COTPERSLT340  116.0  ...           2020-04   1.0    116.0\n",
            "98162   352607  COTPERSLT340  116.0  ...           2020-06   1.0    116.0\n",
            "128670  471680  COTPERPOR340  116.0  ...           2019-06   1.0    116.0\n",
            "132701  479606  LINJULAMB500  135.0  ...           2019-09   1.0    135.0\n",
            "\n",
            "[29738 rows x 7 columns]\n"
          ],
          "name": "stdout"
        }
      ]
    },
    {
      "cell_type": "code",
      "metadata": {
        "id": "SsjwfCW8Aof8"
      },
      "source": [
        "ha = pd.merge(high, A, how='inner')\n",
        "hb = pd.merge(high, B, how='inner')\n",
        "hc = pd.merge(high, C, how='inner')\n",
        "ma = pd.merge(medium, A, how='inner')\n",
        "mb = pd.merge(medium, B, how='inner')\n",
        "mc = pd.merge(medium, C, how='inner')\n",
        "la = pd.merge(low, A, how='inner')\n",
        "lb = pd.merge(low, B, how='inner')\n",
        "lc = pd.merge(low, C, how='inner')"
      ],
      "execution_count": null,
      "outputs": []
    },
    {
      "cell_type": "code",
      "metadata": {
        "colab": {
          "base_uri": "https://localhost:8080/"
        },
        "id": "hsCOUtd_cRMD",
        "outputId": "e00facb4-4e81-4c59-c894-dac2d434d8e1"
      },
      "source": [
        "print(ha,hb,hc,ma,mb,mc,la,lb,lc)"
      ],
      "execution_count": null,
      "outputs": [
        {
          "output_type": "stream",
          "text": [
            "          id      part_number   price  ...  transaction_date  delta   revenue\n",
            "0     477768  TRVCOTBRDWGR055   49.80  ...           2019-06  569.0  28336.20\n",
            "1     476551     PLITRVFD1115    7.50  ...           2019-09  569.0   4267.50\n",
            "2     477768  TRVCOTBRDWGR055   12.67  ...           2019-06  569.0   7209.23\n",
            "3     385096     MAGMORGRYMED   45.00  ...           2020-01  298.0  13410.00\n",
            "4     385096     MAGMORGRYMED   90.00  ...           2020-01  298.0  26820.00\n",
            "...      ...              ...     ...  ...               ...    ...       ...\n",
            "6408  383345     COTJWLGRY345  148.00  ...           2019-05    3.0    444.00\n",
            "6409  515689     LINVIVMIN500  135.00  ...           2020-03    3.0    405.00\n",
            "6410  513257     LINCAMPNK500  135.00  ...           2020-03    3.0    405.00\n",
            "6411  182360     LINEMIMIN520  135.00  ...           2020-03    3.0    405.00\n",
            "6412  155246     COTMAYBLK300  135.00  ...           2019-03    3.0    405.00\n",
            "\n",
            "[6413 rows x 7 columns]           id   part_number  price  currency_id transaction_date  delta  revenue\n",
            "0     425526  COTJULWHT500   6.87            2          2019-03   36.0   247.32\n",
            "1     155712  COTSKYGRY500   8.70            2          2019-03   34.0   295.80\n",
            "2     169309  COTOVLBLU750   8.92            2          2020-03   34.0   303.28\n",
            "3     425579  COTPARBLU520   9.50            2          2019-03   33.0   313.50\n",
            "4     491255  ORGAIRWHT650   8.88            2          2019-11   32.0   284.16\n",
            "...      ...           ...    ...          ...              ...    ...      ...\n",
            "3068  507693  LINCAMPNK500  60.00            2          2020-03    3.0   180.00\n",
            "3069  505994  COTPERPOR500  80.00            2          2020-02    3.0   240.00\n",
            "3070  475183  ORGANTKHI500  56.00            2          2019-05    3.0   168.00\n",
            "3071  158418  COTPINGRY500  56.00            2          2019-10    3.0   168.00\n",
            "3072  166658  ALPLIASPI800  78.00            2          2020-03    3.0   234.00\n",
            "\n",
            "[3073 rows x 7 columns]           id   part_number  price  currency_id transaction_date  delta  revenue\n",
            "0     507254  COTJULWHT700   0.00            2          2020-03   29.0     0.00\n",
            "1     156714  LINPBLGRY850   5.50            3          2019-06   22.0   121.00\n",
            "2     426010  COTRAYGRY550   6.10            2          2019-03   20.0   122.00\n",
            "3     426016  COTDIAGRY550   6.10            2          2019-03   20.0   122.00\n",
            "4     426079  COTRAYGFT550   6.10            2          2019-11   19.0   115.90\n",
            "...      ...           ...    ...          ...              ...    ...      ...\n",
            "2404  493207  COTPERPLN340  18.99            2          2019-10    3.0    56.97\n",
            "2405  502595  COTPERHON360  18.99            2          2020-01    3.0    56.97\n",
            "2406  374916  COTPERSTN360  18.99            2          2020-03    3.0    56.97\n",
            "2407  352607  COTPERSLT340  18.99            2          2019-09    3.0    56.97\n",
            "2408  468731  COTPERCEL360  18.99            2          2019-12    3.0    56.97\n",
            "\n",
            "[2409 rows x 7 columns]           id            part_number  price  ...  transaction_date delta  revenue\n",
            "0     160744  LINMILGRY801-DoNotUse  135.0  ...           2020-01   3.0    405.0\n",
            "1     155246           COTMAYBLK300  135.0  ...           2019-08   3.0    405.0\n",
            "2     161360         AALIN101WHTSML  135.0  ...           2020-01   3.0    405.0\n",
            "3     428055           COTHETCMT160  135.0  ...           2019-04   3.0    405.0\n",
            "4     513300           LINVIVPOW500  135.0  ...           2020-03   3.0    405.0\n",
            "...      ...                    ...    ...  ...               ...   ...      ...\n",
            "3743  378787           ALPLIEAMD090  345.0  ...           2019-05   1.0    345.0\n",
            "3744  506551           ALPLIEFIG090  345.0  ...           2020-03   1.0    345.0\n",
            "3745  476229           ALPLIEFIG090  345.0  ...           2019-06   1.0    345.0\n",
            "3746  491518           ALPLIESUG090  345.0  ...           2020-03   1.0    345.0\n",
            "3747  166645           ALPLIEBLU090  345.0  ...           2019-08   1.0    345.0\n",
            "\n",
            "[3748 rows x 7 columns]           id   part_number  price  currency_id transaction_date  delta  revenue\n",
            "0     490041  ALPLIABLU800   78.0            2          2019-12    3.0    234.0\n",
            "1     170837  ALPLIAPOP800   78.0            2          2019-05    3.0    234.0\n",
            "2     158418  COTPINGRY500   56.0            2          2019-09    3.0    168.0\n",
            "3     156053  LINDSYORG800   80.0            2          2019-02    3.0    240.0\n",
            "4     156613  LINMARGRY460   55.5            3          2019-03    3.0    166.5\n",
            "...      ...           ...    ...          ...              ...    ...      ...\n",
            "4786  505972  COTPERHON360  145.0            2          2020-01    2.0    290.0\n",
            "4787  154857  COTHETCOA260  140.0            2          2019-12    2.0    280.0\n",
            "4788  490037  ALPLIASGR800  140.0            2          2019-12    2.0    280.0\n",
            "4789  515527  COTPERPOW260  140.0            2          2020-07    2.0    280.0\n",
            "4790  468995  ALPLIAFIG800  140.0            2          2019-04    2.0    280.0\n",
            "\n",
            "[4791 rows x 7 columns]           id      part_number  price  ...  transaction_date delta  revenue\n",
            "0     169324     COTPERCEL360  18.99  ...           2019-05   3.0    56.97\n",
            "1     468731     COTPERCEL360  18.99  ...           2020-05   3.0    56.97\n",
            "2     374916     COTPERSTN360  18.99  ...           2019-12   3.0    56.97\n",
            "3     515488     COTPERHON360  18.99  ...           2020-03   3.0    56.97\n",
            "4     471648     COTPERPOR360  18.68  ...           2019-05   3.0    56.04\n",
            "...      ...              ...    ...  ...               ...   ...      ...\n",
            "9298  478439     COTPERWHT440  75.00  ...           2019-07   1.0    75.00\n",
            "9299  507374  AALINMIACHRLMED  75.00  ...           2020-07   1.0    75.00\n",
            "9300  355091     COTHETCOA465  75.00  ...           2019-03   1.0    75.00\n",
            "9301  482175     LINLOUBLU300  75.00  ...           2020-01   1.0    75.00\n",
            "9302  496790     COTLINORA440  75.00  ...           2019-11   1.0    75.00\n",
            "\n",
            "[9303 rows x 7 columns]           id   part_number  price  currency_id transaction_date  delta  revenue\n",
            "0     421303  LINIRSIVO400  355.0            2          2020-03    1.0    355.0\n",
            "1     381999  LININSWHT300  360.0            2          2019-08    1.0    360.0\n",
            "2     352518  LINJULCIT300  360.0            2          2020-01    1.0    360.0\n",
            "3     468320  LINLOUNAT300  360.0            2          2020-03    1.0    360.0\n",
            "4     350999  LINLOUBLU300  360.0            2          2019-11    1.0    360.0\n",
            "...      ...           ...    ...          ...              ...    ...      ...\n",
            "1729  351904  LINLOUBLU440  320.0            2          2020-03    1.0    320.0\n",
            "1730  350912  LINEMIMIN460  320.0            2          2019-06    1.0    320.0\n",
            "1731  330417  LINSMNNAT440  320.0            2          2019-04    1.0    320.0\n",
            "1732  330418  LINSMNNAT460  320.0            2          2019-02    1.0    320.0\n",
            "1733  330418  LINSMNNAT460  320.0            2          2019-12    1.0    320.0\n",
            "\n",
            "[1734 rows x 7 columns]           id     part_number  price  ...  transaction_date delta  revenue\n",
            "0     476159  AALINANJBLKSML  210.0  ...           2020-06   1.0    210.0\n",
            "1     493297    COTTHEBLU300  255.0  ...           2020-07   1.0    255.0\n",
            "2     421924    ALPLIESPI090  150.0  ...           2019-07   1.0    150.0\n",
            "3     497952    COTKLEGRY300  150.0  ...           2019-11   1.0    150.0\n",
            "4     480085    COTKLEGRY300  150.0  ...           2019-08   1.0    150.0\n",
            "...      ...             ...    ...  ...               ...   ...      ...\n",
            "9973  468704    LINELIPWD300  280.0  ...           2020-01   1.0    280.0\n",
            "9974  499554    LINELIMIN300  280.0  ...           2020-03   1.0    280.0\n",
            "9975  514173    LINELICHR300  280.0  ...           2020-05   1.0    280.0\n",
            "9976  469632    LINELICMT300  280.0  ...           2020-03   1.0    280.0\n",
            "9977  479606    LINJULAMB500  135.0  ...           2019-09   1.0    135.0\n",
            "\n",
            "[9978 rows x 7 columns]            id   part_number  price  ...  transaction_date delta  revenue\n",
            "0      303099  BLNELIPEP260   75.0  ...           2019-03   1.0     75.0\n",
            "1      497445  COTPERWHT440   75.0  ...           2019-11   1.0     75.0\n",
            "2      487059  COTPARBLU460   75.0  ...           2020-01   1.0     75.0\n",
            "3      495015  COTPERPOR440   75.0  ...           2020-01   1.0     75.0\n",
            "4      487059  COTPARBLU460   75.0  ...           2020-07   1.0     75.0\n",
            "...       ...           ...    ...  ...               ...   ...      ...\n",
            "18021  156616  LINMARGRY520  116.0  ...           2019-04   1.0    116.0\n",
            "18022  471680  COTPERPOR340  116.0  ...           2019-05   1.0    116.0\n",
            "18023  352607  COTPERSLT340  116.0  ...           2020-04   1.0    116.0\n",
            "18024  352607  COTPERSLT340  116.0  ...           2020-06   1.0    116.0\n",
            "18025  471680  COTPERPOR340  116.0  ...           2019-06   1.0    116.0\n",
            "\n",
            "[18026 rows x 7 columns]\n"
          ],
          "name": "stdout"
        }
      ]
    },
    {
      "cell_type": "code",
      "metadata": {
        "id": "ceDOsF_vgst5"
      },
      "source": [],
      "execution_count": null,
      "outputs": []
    },
    {
      "cell_type": "markdown",
      "metadata": {
        "id": "zi2OhX8NbLL1"
      },
      "source": [
        "#Widgets"
      ]
    },
    {
      "cell_type": "code",
      "metadata": {
        "id": "tvDrFwqabPvr"
      },
      "source": [
        "widget = versa_sales[(versa_sales[\"firm_id\"]==568)]"
      ],
      "execution_count": null,
      "outputs": []
    },
    {
      "cell_type": "code",
      "metadata": {
        "id": "rahTZ2vnb7GB"
      },
      "source": [
        "widget = widget.groupby(['id', 'part_number', 'price'], as_index=False).sum()"
      ],
      "execution_count": null,
      "outputs": []
    },
    {
      "cell_type": "code",
      "metadata": {
        "id": "lGURUABCc4fD"
      },
      "source": [
        "widget = widget.drop(['currency_id'], axis=1)"
      ],
      "execution_count": null,
      "outputs": []
    },
    {
      "cell_type": "code",
      "metadata": {
        "colab": {
          "base_uri": "https://localhost:8080/"
        },
        "id": "5VQMP9YnctOS",
        "outputId": "85630874-0b4e-41fb-cad9-e78735a94489"
      },
      "source": [
        "widget.delta.describe()"
      ],
      "execution_count": null,
      "outputs": [
        {
          "output_type": "execute_result",
          "data": {
            "text/plain": [
              "count    89464.000000\n",
              "mean         0.364549\n",
              "std          3.055714\n",
              "min        -13.000000\n",
              "25%          0.000000\n",
              "50%          0.000000\n",
              "75%          0.000000\n",
              "max        268.000000\n",
              "Name: delta, dtype: float64"
            ]
          },
          "metadata": {
            "tags": []
          },
          "execution_count": 15
        }
      ]
    },
    {
      "cell_type": "code",
      "metadata": {
        "id": "-kBgMMN7dXpj"
      },
      "source": [
        "widget.sort_values(by='delta', ascending=False)"
      ],
      "execution_count": null,
      "outputs": []
    },
    {
      "cell_type": "markdown",
      "metadata": {
        "id": "aYJIdMhdnGmt"
      },
      "source": [
        "#Data Purity"
      ]
    },
    {
      "cell_type": "markdown",
      "source": [
        "# New Section"
      ],
      "metadata": {
        "id": "M1bqrXHKNj7a"
      }
    },
    {
      "cell_type": "code",
      "metadata": {
        "colab": {
          "base_uri": "https://localhost:8080/",
          "height": 572
        },
        "id": "aP94JJHMnLvu",
        "outputId": "eec8f2b8-245e-4266-80ce-79eb8a3b22e5"
      },
      "source": [
        "# price negative or zero\n",
        "zero_price = versa_sales[(versa_sales['price']==0) | (versa_sales['price'] <0)]"
      ],
      "execution_count": null,
      "outputs": [
        {
          "output_type": "execute_result",
          "data": {
            "text/html": [
              "<div>\n",
              "<style scoped>\n",
              "    .dataframe tbody tr th:only-of-type {\n",
              "        vertical-align: middle;\n",
              "    }\n",
              "\n",
              "    .dataframe tbody tr th {\n",
              "        vertical-align: top;\n",
              "    }\n",
              "\n",
              "    .dataframe thead th {\n",
              "        text-align: right;\n",
              "    }\n",
              "</style>\n",
              "<table border=\"1\" class=\"dataframe\">\n",
              "  <thead>\n",
              "    <tr style=\"text-align: right;\">\n",
              "      <th></th>\n",
              "      <th>name</th>\n",
              "      <th>part_number</th>\n",
              "      <th>price</th>\n",
              "      <th>id</th>\n",
              "      <th>firm_id</th>\n",
              "      <th>delta</th>\n",
              "      <th>transaction_date</th>\n",
              "      <th>currency_id</th>\n",
              "      <th>currencies_name</th>\n",
              "    </tr>\n",
              "  </thead>\n",
              "  <tbody>\n",
              "    <tr>\n",
              "      <th>228</th>\n",
              "      <td>ER1000P BR</td>\n",
              "      <td>ER1000P BR</td>\n",
              "      <td>0.0</td>\n",
              "      <td>139326</td>\n",
              "      <td>567</td>\n",
              "      <td>-3.0</td>\n",
              "      <td>2017-02-07</td>\n",
              "      <td>2</td>\n",
              "      <td>United States dollar</td>\n",
              "    </tr>\n",
              "    <tr>\n",
              "      <th>229</th>\n",
              "      <td>ER325P BG</td>\n",
              "      <td>ER325P BG</td>\n",
              "      <td>0.0</td>\n",
              "      <td>139327</td>\n",
              "      <td>567</td>\n",
              "      <td>-3.0</td>\n",
              "      <td>2017-02-07</td>\n",
              "      <td>2</td>\n",
              "      <td>United States dollar</td>\n",
              "    </tr>\n",
              "    <tr>\n",
              "      <th>233</th>\n",
              "      <td>ER525P BR</td>\n",
              "      <td>ER525P BR</td>\n",
              "      <td>0.0</td>\n",
              "      <td>139332</td>\n",
              "      <td>567</td>\n",
              "      <td>-6.0</td>\n",
              "      <td>2017-02-07</td>\n",
              "      <td>2</td>\n",
              "      <td>United States dollar</td>\n",
              "    </tr>\n",
              "    <tr>\n",
              "      <th>249</th>\n",
              "      <td>SKSQ55P BR</td>\n",
              "      <td>SKSQ55P BR</td>\n",
              "      <td>0.0</td>\n",
              "      <td>139371</td>\n",
              "      <td>567</td>\n",
              "      <td>-15.0</td>\n",
              "      <td>2017-02-09</td>\n",
              "      <td>2</td>\n",
              "      <td>United States dollar</td>\n",
              "    </tr>\n",
              "    <tr>\n",
              "      <th>2275</th>\n",
              "      <td>Tube-25ml Aqua,Decorated-Gentle Cleanser(KGCS25)</td>\n",
              "      <td>TB1-025KGCS25-01</td>\n",
              "      <td>0.0</td>\n",
              "      <td>165199</td>\n",
              "      <td>575</td>\n",
              "      <td>-8480.0</td>\n",
              "      <td>2017-08-25</td>\n",
              "      <td>9</td>\n",
              "      <td>Australian dollar</td>\n",
              "    </tr>\n",
              "    <tr>\n",
              "      <th>...</th>\n",
              "      <td>...</td>\n",
              "      <td>...</td>\n",
              "      <td>...</td>\n",
              "      <td>...</td>\n",
              "      <td>...</td>\n",
              "      <td>...</td>\n",
              "      <td>...</td>\n",
              "      <td>...</td>\n",
              "      <td>...</td>\n",
              "    </tr>\n",
              "    <tr>\n",
              "      <th>1795578</th>\n",
              "      <td>NaN</td>\n",
              "      <td>ME25644004</td>\n",
              "      <td>0.0</td>\n",
              "      <td>539950</td>\n",
              "      <td>581</td>\n",
              "      <td>14.0</td>\n",
              "      <td>2020-07-27</td>\n",
              "      <td>3</td>\n",
              "      <td>European Euro</td>\n",
              "    </tr>\n",
              "    <tr>\n",
              "      <th>1795714</th>\n",
              "      <td>Sample A.D. Laws Secale Straight Rye</td>\n",
              "      <td>ADL802234</td>\n",
              "      <td>0.0</td>\n",
              "      <td>498942</td>\n",
              "      <td>588</td>\n",
              "      <td>-1.0</td>\n",
              "      <td>2020-07-28</td>\n",
              "      <td>2</td>\n",
              "      <td>United States dollar</td>\n",
              "    </tr>\n",
              "    <tr>\n",
              "      <th>1795758</th>\n",
              "      <td>NaN</td>\n",
              "      <td>COTJULWHT700</td>\n",
              "      <td>0.0</td>\n",
              "      <td>513933</td>\n",
              "      <td>568</td>\n",
              "      <td>-3.0</td>\n",
              "      <td>2020-07-28</td>\n",
              "      <td>2</td>\n",
              "      <td>United States dollar</td>\n",
              "    </tr>\n",
              "    <tr>\n",
              "      <th>1795960</th>\n",
              "      <td>NaN</td>\n",
              "      <td>EUFILL-KO5</td>\n",
              "      <td>0.0</td>\n",
              "      <td>535567</td>\n",
              "      <td>575</td>\n",
              "      <td>-21199.0</td>\n",
              "      <td>2020-07-29</td>\n",
              "      <td>2</td>\n",
              "      <td>United States dollar</td>\n",
              "    </tr>\n",
              "    <tr>\n",
              "      <th>1796078</th>\n",
              "      <td>NaN</td>\n",
              "      <td>COTJULWHT700</td>\n",
              "      <td>0.0</td>\n",
              "      <td>513933</td>\n",
              "      <td>568</td>\n",
              "      <td>-1.0</td>\n",
              "      <td>2020-07-31</td>\n",
              "      <td>2</td>\n",
              "      <td>United States dollar</td>\n",
              "    </tr>\n",
              "  </tbody>\n",
              "</table>\n",
              "<p>33089 rows × 9 columns</p>\n",
              "</div>"
            ],
            "text/plain": [
              "                                                     name  ...       currencies_name\n",
              "228                                            ER1000P BR  ...  United States dollar\n",
              "229                                             ER325P BG  ...  United States dollar\n",
              "233                                             ER525P BR  ...  United States dollar\n",
              "249                                            SKSQ55P BR  ...  United States dollar\n",
              "2275     Tube-25ml Aqua,Decorated-Gentle Cleanser(KGCS25)  ...     Australian dollar\n",
              "...                                                   ...  ...                   ...\n",
              "1795578                                               NaN  ...         European Euro\n",
              "1795714              Sample A.D. Laws Secale Straight Rye  ...  United States dollar\n",
              "1795758                                               NaN  ...  United States dollar\n",
              "1795960                                               NaN  ...  United States dollar\n",
              "1796078                                               NaN  ...  United States dollar\n",
              "\n",
              "[33089 rows x 9 columns]"
            ]
          },
          "metadata": {
            "tags": []
          },
          "execution_count": 11
        }
      ]
    },
    {
      "cell_type": "code",
      "metadata": {
        "id": "Eh8SOS2MnSC-"
      },
      "source": [],
      "execution_count": null,
      "outputs": []
    }
  ]
}