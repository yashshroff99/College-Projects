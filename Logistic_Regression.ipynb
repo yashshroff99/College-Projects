{
  "nbformat": 4,
  "nbformat_minor": 0,
  "metadata": {
    "colab": {
      "provenance": [],
      "authorship_tag": "ABX9TyOOHq0ZzyaLs9uWFf9opv4U",
      "include_colab_link": true
    },
    "kernelspec": {
      "name": "python3",
      "display_name": "Python 3"
    },
    "language_info": {
      "name": "python"
    }
  },
  "cells": [
    {
      "cell_type": "markdown",
      "metadata": {
        "id": "view-in-github",
        "colab_type": "text"
      },
      "source": [
        "<a href=\"https://colab.research.google.com/github/yashshroff99/College-Projects/blob/main/Logistic_Regression.ipynb\" target=\"_parent\"><img src=\"https://colab.research.google.com/assets/colab-badge.svg\" alt=\"Open In Colab\"/></a>"
      ]
    },
    {
      "cell_type": "code",
      "execution_count": 1,
      "metadata": {
        "colab": {
          "base_uri": "https://localhost:8080/",
          "height": 641
        },
        "id": "xiAoM3nngiCE",
        "outputId": "8ee41a51-0980-48a4-8373-0a25acfb8944"
      },
      "outputs": [
        {
          "output_type": "stream",
          "name": "stdout",
          "text": [
            "[1]\n",
            "[[9.99250016e-01 7.49984089e-04]\n",
            " [9.99240201e-01 7.59799387e-04]\n",
            " [9.99230257e-01 7.69743043e-04]\n",
            " ...\n",
            " [3.08374822e-03 9.96916252e-01]\n",
            " [3.04400296e-03 9.96955997e-01]\n",
            " [3.00476842e-03 9.96995232e-01]]\n"
          ]
        },
        {
          "output_type": "stream",
          "name": "stderr",
          "text": [
            "<ipython-input-1-4fb5b76751b1>:18: DeprecationWarning: `np.int` is a deprecated alias for the builtin `int`. To silence this warning, use `int` by itself. Doing this will not modify any behavior and is safe. When replacing `np.int`, you may wish to use e.g. `np.int64` or `np.int32` to specify the precision. If you wish to review your current use, check the release note link for additional information.\n",
            "Deprecated in NumPy 1.20; for more details and guidance: https://numpy.org/devdocs/release/1.20.0-notes.html#deprecations\n",
            "  y = (iris[\"target\"] == 2).astype(np.int)  # Create binary labels for iris virginica (2)\n"
          ]
        },
        {
          "output_type": "display_data",
          "data": {
            "text/plain": [
              "<Figure size 640x480 with 1 Axes>"
            ],
            "image/png": "[encoded data removed]"
          },
          "metadata": {}
        }
      ],
      "source": [
        "# Train a logistic regression classifier to predict whether a flower is iris virginica or not\n",
        "from sklearn import datasets\n",
        "from sklearn.linear_model import LogisticRegression\n",
        "import numpy as np\n",
        "import matplotlib.pyplot as plt\n",
        "\n",
        "# Load the iris dataset\n",
        "iris = datasets.load_iris()\n",
        "\n",
        "# Uncomment the following lines to see information about the dataset\n",
        "# print(list(iris.keys()))  # List the keys of the dataset dictionary\n",
        "# print(iris['data'].shape)  # Show the shape of the data array\n",
        "# print(iris['target'])  # Show the target values\n",
        "# print(iris['DESCR'])  # Show the dataset description\n",
        "\n",
        "# Extract the relevant features and target variable\n",
        "X = iris[\"data\"][:, 3:]  # Use only the fourth feature (petal width)\n",
        "y = (iris[\"target\"] == 2).astype(np.int)  # Create binary labels for iris virginica (2)\n",
        "\n",
        "# Train a logistic regression classifier\n",
        "clf = LogisticRegression()\n",
        "clf.fit(X, y)\n",
        "\n",
        "# Predict an example\n",
        "example = clf.predict([[2.6]])\n",
        "print(example)\n",
        "\n",
        "# Generate data points for visualization\n",
        "X_new = np.linspace(0, 3, 1000).reshape(-1, 1)  # Generate 1000 data points between 0 and 3\n",
        "y_prob = clf.predict_proba(X_new)  # Get the predicted probabilities for each class\n",
        "\n",
        "print(y_prob)\n",
        "\n",
        "# Plot the visualization using matplotlib\n",
        "plt.plot(X_new, y_prob[:, 1], \"g-\", label=\"virginica\")  # Plot the probability of class 'virginica'\n",
        "plt.show()\n",
        "\n",
        "# Uncomment the following lines to see more information about the dataset and the data\n",
        "# print(y)  # Print the binary labels\n",
        "# print(iris[\"data\"])  # Print the entire data array\n",
        "# print(X)  # Print the selected feature values\n"
      ]
    },
    {
      "cell_type": "markdown",
      "source": [
        "Explanation:\n",
        "\n",
        "The code begins by importing the necessary libraries: datasets from sklearn, LogisticRegression from sklearn.linear_model, numpy as np, and matplotlib.pyplot as plt.\n",
        "The iris dataset is loaded using datasets.load_iris() and assigned to the variable iris.\n",
        "There are commented lines that provide information about the dataset if uncommented.\n",
        "The relevant features and target variable are extracted from the dataset. In this case, only the fourth feature (petal width) is used, and binary labels are created for iris virginica (2) using astype(np.int).\n",
        "A logistic regression classifier is created and trained using LogisticRegression() and fit(X, y), respectively.\n",
        "An example prediction is made on a new data point [[2.6]] using clf.predict(), and the result is printed.\n",
        "Data points are generated for visualization using np.linspace() to create 1000 points between 0 and 3, reshaped to a column vector.\n",
        "Predicted probabilities for each class are obtained using clf.predict_proba() on the generated data points, and the result is printed.\n",
        "The visualization is plotted using plt.plot() to show the probability of class 'virginica' (y_prob[:, 1]), with a green line (\"g-\") and labeled as 'virginica'.\n",
        "The plot is displayed using plt.show().\n",
        "There are commented lines that provide more information about the dataset, labels, and features if uncommented."
      ],
      "metadata": {
        "id": "Y2fKKQ5Ig1cC"
      }
    }
  ]
}