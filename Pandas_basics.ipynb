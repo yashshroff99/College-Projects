{
  "nbformat": 4,
  "nbformat_minor": 0,
  "metadata": {
    "kernelspec": {
      "display_name": "Python 3",
      "language": "python",
      "name": "python3"
    },
    "language_info": {
      "codemirror_mode": {
        "name": "ipython",
        "version": 3
      },
      "file_extension": ".py",
      "mimetype": "text/x-python",
      "name": "python",
      "nbconvert_exporter": "python",
      "pygments_lexer": "ipython3",
      "version": "3.6.7"
    },
    "colab": {
      "provenance": []
    }
  },
  "cells": [
    {
      "cell_type": "markdown",
      "metadata": {
        "id": "eb3Dr0IzoNWC"
      },
      "source": [
        "## PANDAS"
      ]
    },
    {
      "cell_type": "markdown",
      "metadata": {
        "id": "YDO4KVJwoNWL"
      },
      "source": [
        "Pandas is a library that provides easy exploration and analysis of data sets in Python."
      ]
    },
    {
      "cell_type": "code",
      "metadata": {
        "id": "gal2C1pQoNWO"
      },
      "source": [
        "import pandas as pd"
      ],
      "execution_count": null,
      "outputs": []
    },
    {
      "cell_type": "markdown",
      "metadata": {
        "id": "yrs5kYoQoNWk"
      },
      "source": [
        "### Reading Data"
      ]
    },
    {
      "cell_type": "markdown",
      "metadata": {
        "id": "z6HRDWtooNWo"
      },
      "source": [
        "We will commonly come across two formats for storing data : Series and Dataframe.\n",
        "Series is analogous to a single column of data (one dimensional array), while Dataframe is a collection of Series."
      ]
    },
    {
      "cell_type": "code",
      "metadata": {
        "id": "fKK4dl8QoNWu",
        "outputId": "f3319c73-66af-43ce-bd0a-fa7c359e7538"
      },
      "source": [
        "# Creating a Series\n",
        "pd.Series([1, 2, 3, 4], name='Test Series')"
      ],
      "execution_count": null,
      "outputs": [
        {
          "output_type": "execute_result",
          "data": {
            "text/plain": [
              "0    1\n",
              "1    2\n",
              "2    3\n",
              "3    4\n",
              "Name: Test Series, dtype: int64"
            ]
          },
          "metadata": {
            "tags": []
          },
          "execution_count": 2
        }
      ]
    },
    {
      "cell_type": "markdown",
      "metadata": {
        "id": "q15ytUOqoNcQ"
      },
      "source": [
        "Default row numbers (called index) start from 0, but can be manually set."
      ]
    },
    {
      "cell_type": "code",
      "metadata": {
        "id": "m43Fz0FDoNcT",
        "outputId": "3e1ef444-755d-4807-9eed-10494a065c40"
      },
      "source": [
        "pd.Series([1, 2, 3, 4], index=['a','b','c','d'], name='Test Series')"
      ],
      "execution_count": null,
      "outputs": [
        {
          "output_type": "execute_result",
          "data": {
            "text/plain": [
              "a    1\n",
              "b    2\n",
              "c    3\n",
              "d    4\n",
              "Name: Test Series, dtype: int64"
            ]
          },
          "metadata": {
            "tags": []
          },
          "execution_count": 3
        }
      ]
    },
    {
      "cell_type": "markdown",
      "metadata": {
        "id": "NW2boeHKoNci"
      },
      "source": [
        "Dataframe is a collection of Series, and is displayed in a tabular format."
      ]
    },
    {
      "cell_type": "code",
      "metadata": {
        "id": "PFpsVxQ2oNcm",
        "outputId": "4266ace8-97c0-4324-9b19-499c285625db"
      },
      "source": [
        "# Creating a DataFrame\n",
        "pd.DataFrame({'Col1':[1, 2, 3, 4], 'Col2':['a','b','c','d']})"
      ],
      "execution_count": null,
      "outputs": [
        {
          "output_type": "execute_result",
          "data": {
            "text/html": [
              "<div>\n",
              "<style scoped>\n",
              "    .dataframe tbody tr th:only-of-type {\n",
              "        vertical-align: middle;\n",
              "    }\n",
              "\n",
              "    .dataframe tbody tr th {\n",
              "        vertical-align: top;\n",
              "    }\n",
              "\n",
              "    .dataframe thead th {\n",
              "        text-align: right;\n",
              "    }\n",
              "</style>\n",
              "<table border=\"1\" class=\"dataframe\">\n",
              "  <thead>\n",
              "    <tr style=\"text-align: right;\">\n",
              "      <th></th>\n",
              "      <th>Col1</th>\n",
              "      <th>Col2</th>\n",
              "    </tr>\n",
              "  </thead>\n",
              "  <tbody>\n",
              "    <tr>\n",
              "      <th>0</th>\n",
              "      <td>1</td>\n",
              "      <td>a</td>\n",
              "    </tr>\n",
              "    <tr>\n",
              "      <th>1</th>\n",
              "      <td>2</td>\n",
              "      <td>b</td>\n",
              "    </tr>\n",
              "    <tr>\n",
              "      <th>2</th>\n",
              "      <td>3</td>\n",
              "      <td>c</td>\n",
              "    </tr>\n",
              "    <tr>\n",
              "      <th>3</th>\n",
              "      <td>4</td>\n",
              "      <td>d</td>\n",
              "    </tr>\n",
              "  </tbody>\n",
              "</table>\n",
              "</div>"
            ],
            "text/plain": [
              "   Col1 Col2\n",
              "0     1    a\n",
              "1     2    b\n",
              "2     3    c\n",
              "3     4    d"
            ]
          },
          "metadata": {
            "tags": []
          },
          "execution_count": 4
        }
      ]
    },
    {
      "cell_type": "markdown",
      "metadata": {
        "id": "Bjue-VG0oNc6"
      },
      "source": [
        "*Generally*, datasets are stored as .csv files, and can be imported using the `pd.read_csv('filename')` function."
      ]
    },
    {
      "cell_type": "markdown",
      "metadata": {
        "id": "LNC5ZsePoNc_"
      },
      "source": [
        "### Data Exploration"
      ]
    },
    {
      "cell_type": "markdown",
      "metadata": {
        "id": "QIgJML47oNdB"
      },
      "source": [
        "##### Basic"
      ]
    },
    {
      "cell_type": "markdown",
      "metadata": {
        "id": "gLigtfxmoNdK"
      },
      "source": [
        "Pandas provides a lot of functions to analyse and explore any dataset stored as a DataFrame. Let's create a test dataset and use some of these functions."
      ]
    },
    {
      "cell_type": "code",
      "metadata": {
        "id": "FX4MxmanoNdM"
      },
      "source": [
        "# Creating DataFrame\n",
        "cricketData = pd.DataFrame({\n",
        "    'Player Name' : ['V Kohli', 'S Tendulkar', 'Rohit Sharma', 'S Dhawan', 'Yuvraj Singh', 'G Gambhir'],\n",
        "    'No. of 50s' : [50, 60, 47, 40, 37, 39],\n",
        "    'No. of 100s' : [23, 26, 15, 12, 14, 9],\n",
        "    'Retired' : [False, True, False, False, False, True]\n",
        "})"
      ],
      "execution_count": null,
      "outputs": []
    },
    {
      "cell_type": "code",
      "metadata": {
        "id": "gyDtlh-8oNdV",
        "outputId": "23e02736-831f-44a4-fd48-3ab2c3758d60"
      },
      "source": [
        "# .head() returns top n entries, where n by default is 5\n",
        "cricketData.head()"
      ],
      "execution_count": null,
      "outputs": [
        {
          "output_type": "execute_result",
          "data": {
            "text/html": [
              "<div>\n",
              "<style scoped>\n",
              "    .dataframe tbody tr th:only-of-type {\n",
              "        vertical-align: middle;\n",
              "    }\n",
              "\n",
              "    .dataframe tbody tr th {\n",
              "        vertical-align: top;\n",
              "    }\n",
              "\n",
              "    .dataframe thead th {\n",
              "        text-align: right;\n",
              "    }\n",
              "</style>\n",
              "<table border=\"1\" class=\"dataframe\">\n",
              "  <thead>\n",
              "    <tr style=\"text-align: right;\">\n",
              "      <th></th>\n",
              "      <th>Player Name</th>\n",
              "      <th>No. of 50s</th>\n",
              "      <th>No. of 100s</th>\n",
              "      <th>Retired</th>\n",
              "    </tr>\n",
              "  </thead>\n",
              "  <tbody>\n",
              "    <tr>\n",
              "      <th>0</th>\n",
              "      <td>V Kohli</td>\n",
              "      <td>50</td>\n",
              "      <td>23</td>\n",
              "      <td>False</td>\n",
              "    </tr>\n",
              "    <tr>\n",
              "      <th>1</th>\n",
              "      <td>S Tendulkar</td>\n",
              "      <td>60</td>\n",
              "      <td>26</td>\n",
              "      <td>True</td>\n",
              "    </tr>\n",
              "    <tr>\n",
              "      <th>2</th>\n",
              "      <td>Rohit Sharma</td>\n",
              "      <td>47</td>\n",
              "      <td>15</td>\n",
              "      <td>False</td>\n",
              "    </tr>\n",
              "    <tr>\n",
              "      <th>3</th>\n",
              "      <td>S Dhawan</td>\n",
              "      <td>40</td>\n",
              "      <td>12</td>\n",
              "      <td>False</td>\n",
              "    </tr>\n",
              "    <tr>\n",
              "      <th>4</th>\n",
              "      <td>Yuvraj Singh</td>\n",
              "      <td>37</td>\n",
              "      <td>14</td>\n",
              "      <td>False</td>\n",
              "    </tr>\n",
              "  </tbody>\n",
              "</table>\n",
              "</div>"
            ],
            "text/plain": [
              "    Player Name  No. of 50s  No. of 100s  Retired\n",
              "0       V Kohli          50           23    False\n",
              "1   S Tendulkar          60           26     True\n",
              "2  Rohit Sharma          47           15    False\n",
              "3      S Dhawan          40           12    False\n",
              "4  Yuvraj Singh          37           14    False"
            ]
          },
          "metadata": {
            "tags": []
          },
          "execution_count": 9
        }
      ]
    },
    {
      "cell_type": "code",
      "metadata": {
        "id": "LTXV38_doNdg",
        "outputId": "3ba98ef4-0d3a-4899-f179-97869e3c5b99"
      },
      "source": [
        "# .describe() returns statistical information for all numerical columns\n",
        "cricketData.describe()"
      ],
      "execution_count": null,
      "outputs": [
        {
          "output_type": "execute_result",
          "data": {
            "text/html": [
              "<div>\n",
              "<style scoped>\n",
              "    .dataframe tbody tr th:only-of-type {\n",
              "        vertical-align: middle;\n",
              "    }\n",
              "\n",
              "    .dataframe tbody tr th {\n",
              "        vertical-align: top;\n",
              "    }\n",
              "\n",
              "    .dataframe thead th {\n",
              "        text-align: right;\n",
              "    }\n",
              "</style>\n",
              "<table border=\"1\" class=\"dataframe\">\n",
              "  <thead>\n",
              "    <tr style=\"text-align: right;\">\n",
              "      <th></th>\n",
              "      <th>No. of 50s</th>\n",
              "      <th>No. of 100s</th>\n",
              "    </tr>\n",
              "  </thead>\n",
              "  <tbody>\n",
              "    <tr>\n",
              "      <th>count</th>\n",
              "      <td>6.000000</td>\n",
              "      <td>6.000000</td>\n",
              "    </tr>\n",
              "    <tr>\n",
              "      <th>mean</th>\n",
              "      <td>45.500000</td>\n",
              "      <td>16.500000</td>\n",
              "    </tr>\n",
              "    <tr>\n",
              "      <th>std</th>\n",
              "      <td>8.689074</td>\n",
              "      <td>6.595453</td>\n",
              "    </tr>\n",
              "    <tr>\n",
              "      <th>min</th>\n",
              "      <td>37.000000</td>\n",
              "      <td>9.000000</td>\n",
              "    </tr>\n",
              "    <tr>\n",
              "      <th>25%</th>\n",
              "      <td>39.250000</td>\n",
              "      <td>12.500000</td>\n",
              "    </tr>\n",
              "    <tr>\n",
              "      <th>50%</th>\n",
              "      <td>43.500000</td>\n",
              "      <td>14.500000</td>\n",
              "    </tr>\n",
              "    <tr>\n",
              "      <th>75%</th>\n",
              "      <td>49.250000</td>\n",
              "      <td>21.000000</td>\n",
              "    </tr>\n",
              "    <tr>\n",
              "      <th>max</th>\n",
              "      <td>60.000000</td>\n",
              "      <td>26.000000</td>\n",
              "    </tr>\n",
              "  </tbody>\n",
              "</table>\n",
              "</div>"
            ],
            "text/plain": [
              "       No. of 50s  No. of 100s\n",
              "count    6.000000     6.000000\n",
              "mean    45.500000    16.500000\n",
              "std      8.689074     6.595453\n",
              "min     37.000000     9.000000\n",
              "25%     39.250000    12.500000\n",
              "50%     43.500000    14.500000\n",
              "75%     49.250000    21.000000\n",
              "max     60.000000    26.000000"
            ]
          },
          "metadata": {
            "tags": []
          },
          "execution_count": 10
        }
      ]
    },
    {
      "cell_type": "code",
      "metadata": {
        "id": "7MbRUYzeoNdt",
        "outputId": "75bb834c-a36a-4095-c067-20bf11e318e4"
      },
      "source": [
        "# .info() returns a list of all the columns and the number of non-null entries in each\n",
        "cricketData.info()"
      ],
      "execution_count": null,
      "outputs": [
        {
          "output_type": "stream",
          "text": [
            "<class 'pandas.core.frame.DataFrame'>\n",
            "RangeIndex: 6 entries, 0 to 5\n",
            "Data columns (total 4 columns):\n",
            "Player Name    6 non-null object\n",
            "No. of 50s     6 non-null int64\n",
            "No. of 100s    6 non-null int64\n",
            "Retired        6 non-null bool\n",
            "dtypes: bool(1), int64(2), object(1)\n",
            "memory usage: 230.0+ bytes\n"
          ],
          "name": "stdout"
        }
      ]
    },
    {
      "cell_type": "code",
      "metadata": {
        "id": "G_NT_qm2oNeI",
        "outputId": "329d5971-9681-4a52-8a7d-9640a8a7cd2c"
      },
      "source": [
        "print(cricketData.shape)    # shape of dataframe\n",
        "print(cricketData.columns)  # lists all columns of dataframe\n",
        "print(cricketData.dtypes)   # returns dtypes of all columns"
      ],
      "execution_count": null,
      "outputs": [
        {
          "output_type": "stream",
          "text": [
            "(6, 4)\n",
            "Index(['Player Name', 'No. of 50s', 'No. of 100s', 'Retired'], dtype='object')\n",
            "Player Name    object\n",
            "No. of 50s      int64\n",
            "No. of 100s     int64\n",
            "Retired          bool\n",
            "dtype: object\n"
          ],
          "name": "stdout"
        }
      ]
    },
    {
      "cell_type": "code",
      "metadata": {
        "id": "3dmYPphdoNeU",
        "outputId": "50022b61-8d00-4664-edfb-f26bc43e1bc5"
      },
      "source": [
        "print(cricketData['Retired'].value_counts())  # Returns all unique values of a particular column and their counts"
      ],
      "execution_count": null,
      "outputs": [
        {
          "output_type": "stream",
          "text": [
            "False    4\n",
            "True     2\n",
            "Name: Retired, dtype: int64\n"
          ],
          "name": "stdout"
        }
      ]
    },
    {
      "cell_type": "markdown",
      "metadata": {
        "id": "lpwX0AkjoNej"
      },
      "source": [
        "##### NaN"
      ]
    },
    {
      "cell_type": "markdown",
      "metadata": {
        "id": "SZvGMCCXoNel"
      },
      "source": [
        "Real datasets have a lot of data that is invalid/not known. Such data is generally stored as `NaN` or 'Not a Number' in Python.\n",
        "Pandas has functions to deal with `NaN` data directly."
      ]
    },
    {
      "cell_type": "code",
      "metadata": {
        "id": "WDXMV2tRoNeq"
      },
      "source": [
        "import numpy as np\n",
        "# Let us assume that the no. of 50s of Dhenier and Tendehar are not known.\n",
        "# We'll set values for these indexes (1 and 3) to NaN using np.nan (loc is explained later)\n",
        "cricketData.loc[1, 'No. of 50s'] = np.nan\n",
        "cricketData.loc[3, 'No. of 50s'] = np.nan"
      ],
      "execution_count": null,
      "outputs": []
    },
    {
      "cell_type": "code",
      "metadata": {
        "id": "qXmg0XMUoNe6",
        "outputId": "44381137-e305-47e8-9069-99ce8e2afb1a"
      },
      "source": [
        "# Seeing the data now\n",
        "cricketData"
      ],
      "execution_count": null,
      "outputs": [
        {
          "output_type": "execute_result",
          "data": {
            "text/html": [
              "<div>\n",
              "<style scoped>\n",
              "    .dataframe tbody tr th:only-of-type {\n",
              "        vertical-align: middle;\n",
              "    }\n",
              "\n",
              "    .dataframe tbody tr th {\n",
              "        vertical-align: top;\n",
              "    }\n",
              "\n",
              "    .dataframe thead th {\n",
              "        text-align: right;\n",
              "    }\n",
              "</style>\n",
              "<table border=\"1\" class=\"dataframe\">\n",
              "  <thead>\n",
              "    <tr style=\"text-align: right;\">\n",
              "      <th></th>\n",
              "      <th>Player Name</th>\n",
              "      <th>No. of 50s</th>\n",
              "      <th>No. of 100s</th>\n",
              "      <th>Retired</th>\n",
              "    </tr>\n",
              "  </thead>\n",
              "  <tbody>\n",
              "    <tr>\n",
              "      <th>0</th>\n",
              "      <td>V Kohli</td>\n",
              "      <td>50.0</td>\n",
              "      <td>23</td>\n",
              "      <td>False</td>\n",
              "    </tr>\n",
              "    <tr>\n",
              "      <th>1</th>\n",
              "      <td>S Tendulkar</td>\n",
              "      <td>NaN</td>\n",
              "      <td>26</td>\n",
              "      <td>True</td>\n",
              "    </tr>\n",
              "    <tr>\n",
              "      <th>2</th>\n",
              "      <td>Rohit Sharma</td>\n",
              "      <td>47.0</td>\n",
              "      <td>15</td>\n",
              "      <td>False</td>\n",
              "    </tr>\n",
              "    <tr>\n",
              "      <th>3</th>\n",
              "      <td>S Dhawan</td>\n",
              "      <td>NaN</td>\n",
              "      <td>12</td>\n",
              "      <td>False</td>\n",
              "    </tr>\n",
              "    <tr>\n",
              "      <th>4</th>\n",
              "      <td>Yuvraj Singh</td>\n",
              "      <td>37.0</td>\n",
              "      <td>14</td>\n",
              "      <td>False</td>\n",
              "    </tr>\n",
              "    <tr>\n",
              "      <th>5</th>\n",
              "      <td>G Gambhir</td>\n",
              "      <td>39.0</td>\n",
              "      <td>9</td>\n",
              "      <td>True</td>\n",
              "    </tr>\n",
              "  </tbody>\n",
              "</table>\n",
              "</div>"
            ],
            "text/plain": [
              "    Player Name  No. of 50s  No. of 100s  Retired\n",
              "0       V Kohli        50.0           23    False\n",
              "1   S Tendulkar         NaN           26     True\n",
              "2  Rohit Sharma        47.0           15    False\n",
              "3      S Dhawan         NaN           12    False\n",
              "4  Yuvraj Singh        37.0           14    False\n",
              "5     G Gambhir        39.0            9     True"
            ]
          },
          "metadata": {
            "tags": []
          },
          "execution_count": 16
        }
      ]
    },
    {
      "cell_type": "code",
      "metadata": {
        "id": "mmZiyd7JoNfH",
        "outputId": "633bd080-c496-4c2e-b4c9-13ab081f8621"
      },
      "source": [
        "cricketData.info()\n",
        "# .info() now correctly shows only 4 non-null values for no. of 50s"
      ],
      "execution_count": null,
      "outputs": [
        {
          "output_type": "stream",
          "text": [
            "<class 'pandas.core.frame.DataFrame'>\n",
            "RangeIndex: 6 entries, 0 to 5\n",
            "Data columns (total 4 columns):\n",
            "Player Name    6 non-null object\n",
            "No. of 50s     4 non-null float64\n",
            "No. of 100s    6 non-null int64\n",
            "Retired        6 non-null bool\n",
            "dtypes: bool(1), float64(1), int64(1), object(1)\n",
            "memory usage: 230.0+ bytes\n"
          ],
          "name": "stdout"
        }
      ]
    },
    {
      "cell_type": "code",
      "metadata": {
        "id": "PK31Cg_XoNfa",
        "outputId": "658b89da-c2dc-497a-ec36-102880162d86"
      },
      "source": [
        "# isna() returns a boolean DataFrame signifying which values in DataFrame are NaN\n",
        "cricketData.isna()"
      ],
      "execution_count": null,
      "outputs": [
        {
          "output_type": "execute_result",
          "data": {
            "text/html": [
              "<div>\n",
              "<style scoped>\n",
              "    .dataframe tbody tr th:only-of-type {\n",
              "        vertical-align: middle;\n",
              "    }\n",
              "\n",
              "    .dataframe tbody tr th {\n",
              "        vertical-align: top;\n",
              "    }\n",
              "\n",
              "    .dataframe thead th {\n",
              "        text-align: right;\n",
              "    }\n",
              "</style>\n",
              "<table border=\"1\" class=\"dataframe\">\n",
              "  <thead>\n",
              "    <tr style=\"text-align: right;\">\n",
              "      <th></th>\n",
              "      <th>Player Name</th>\n",
              "      <th>No. of 50s</th>\n",
              "      <th>No. of 100s</th>\n",
              "      <th>Retired</th>\n",
              "    </tr>\n",
              "  </thead>\n",
              "  <tbody>\n",
              "    <tr>\n",
              "      <th>0</th>\n",
              "      <td>False</td>\n",
              "      <td>False</td>\n",
              "      <td>False</td>\n",
              "      <td>False</td>\n",
              "    </tr>\n",
              "    <tr>\n",
              "      <th>1</th>\n",
              "      <td>False</td>\n",
              "      <td>True</td>\n",
              "      <td>False</td>\n",
              "      <td>False</td>\n",
              "    </tr>\n",
              "    <tr>\n",
              "      <th>2</th>\n",
              "      <td>False</td>\n",
              "      <td>False</td>\n",
              "      <td>False</td>\n",
              "      <td>False</td>\n",
              "    </tr>\n",
              "    <tr>\n",
              "      <th>3</th>\n",
              "      <td>False</td>\n",
              "      <td>True</td>\n",
              "      <td>False</td>\n",
              "      <td>False</td>\n",
              "    </tr>\n",
              "    <tr>\n",
              "      <th>4</th>\n",
              "      <td>False</td>\n",
              "      <td>False</td>\n",
              "      <td>False</td>\n",
              "      <td>False</td>\n",
              "    </tr>\n",
              "    <tr>\n",
              "      <th>5</th>\n",
              "      <td>False</td>\n",
              "      <td>False</td>\n",
              "      <td>False</td>\n",
              "      <td>False</td>\n",
              "    </tr>\n",
              "  </tbody>\n",
              "</table>\n",
              "</div>"
            ],
            "text/plain": [
              "   Player Name  No. of 50s  No. of 100s  Retired\n",
              "0        False       False        False    False\n",
              "1        False        True        False    False\n",
              "2        False       False        False    False\n",
              "3        False        True        False    False\n",
              "4        False       False        False    False\n",
              "5        False       False        False    False"
            ]
          },
          "metadata": {
            "tags": []
          },
          "execution_count": 18
        }
      ]
    },
    {
      "cell_type": "code",
      "metadata": {
        "id": "QLoS6TE5oNfl",
        "outputId": "10dc2cc7-bb51-43f6-be7c-ed5a6779c80e"
      },
      "source": [
        "# fillna() replaces all NaN values with given value.\n",
        "# Can also use some statistical estimate like mean or median to replace NaN values\n",
        "cricketData.fillna(value=0)"
      ],
      "execution_count": null,
      "outputs": [
        {
          "output_type": "execute_result",
          "data": {
            "text/html": [
              "<div>\n",
              "<style scoped>\n",
              "    .dataframe tbody tr th:only-of-type {\n",
              "        vertical-align: middle;\n",
              "    }\n",
              "\n",
              "    .dataframe tbody tr th {\n",
              "        vertical-align: top;\n",
              "    }\n",
              "\n",
              "    .dataframe thead th {\n",
              "        text-align: right;\n",
              "    }\n",
              "</style>\n",
              "<table border=\"1\" class=\"dataframe\">\n",
              "  <thead>\n",
              "    <tr style=\"text-align: right;\">\n",
              "      <th></th>\n",
              "      <th>Player Name</th>\n",
              "      <th>No. of 50s</th>\n",
              "      <th>No. of 100s</th>\n",
              "      <th>Retired</th>\n",
              "    </tr>\n",
              "  </thead>\n",
              "  <tbody>\n",
              "    <tr>\n",
              "      <th>0</th>\n",
              "      <td>V Kohli</td>\n",
              "      <td>50.0</td>\n",
              "      <td>23</td>\n",
              "      <td>False</td>\n",
              "    </tr>\n",
              "    <tr>\n",
              "      <th>1</th>\n",
              "      <td>S Tendulkar</td>\n",
              "      <td>0.0</td>\n",
              "      <td>26</td>\n",
              "      <td>True</td>\n",
              "    </tr>\n",
              "    <tr>\n",
              "      <th>2</th>\n",
              "      <td>Rohit Sharma</td>\n",
              "      <td>47.0</td>\n",
              "      <td>15</td>\n",
              "      <td>False</td>\n",
              "    </tr>\n",
              "    <tr>\n",
              "      <th>3</th>\n",
              "      <td>S Dhawan</td>\n",
              "      <td>0.0</td>\n",
              "      <td>12</td>\n",
              "      <td>False</td>\n",
              "    </tr>\n",
              "    <tr>\n",
              "      <th>4</th>\n",
              "      <td>Yuvraj Singh</td>\n",
              "      <td>37.0</td>\n",
              "      <td>14</td>\n",
              "      <td>False</td>\n",
              "    </tr>\n",
              "    <tr>\n",
              "      <th>5</th>\n",
              "      <td>G Gambhir</td>\n",
              "      <td>39.0</td>\n",
              "      <td>9</td>\n",
              "      <td>True</td>\n",
              "    </tr>\n",
              "  </tbody>\n",
              "</table>\n",
              "</div>"
            ],
            "text/plain": [
              "    Player Name  No. of 50s  No. of 100s  Retired\n",
              "0       V Kohli        50.0           23    False\n",
              "1   S Tendulkar         0.0           26     True\n",
              "2  Rohit Sharma        47.0           15    False\n",
              "3      S Dhawan         0.0           12    False\n",
              "4  Yuvraj Singh        37.0           14    False\n",
              "5     G Gambhir        39.0            9     True"
            ]
          },
          "metadata": {
            "tags": []
          },
          "execution_count": 19
        }
      ]
    },
    {
      "cell_type": "code",
      "metadata": {
        "id": "ZfuEfJuAoNf3",
        "outputId": "76e7a4f9-a77d-4d6c-d4b1-01525decd787"
      },
      "source": [
        "# dropna() drops all entries that have any NaN values in them\n",
        "cricketData.dropna()"
      ],
      "execution_count": null,
      "outputs": [
        {
          "output_type": "execute_result",
          "data": {
            "text/html": [
              "<div>\n",
              "<style scoped>\n",
              "    .dataframe tbody tr th:only-of-type {\n",
              "        vertical-align: middle;\n",
              "    }\n",
              "\n",
              "    .dataframe tbody tr th {\n",
              "        vertical-align: top;\n",
              "    }\n",
              "\n",
              "    .dataframe thead th {\n",
              "        text-align: right;\n",
              "    }\n",
              "</style>\n",
              "<table border=\"1\" class=\"dataframe\">\n",
              "  <thead>\n",
              "    <tr style=\"text-align: right;\">\n",
              "      <th></th>\n",
              "      <th>Player Name</th>\n",
              "      <th>No. of 50s</th>\n",
              "      <th>No. of 100s</th>\n",
              "      <th>Retired</th>\n",
              "    </tr>\n",
              "  </thead>\n",
              "  <tbody>\n",
              "    <tr>\n",
              "      <th>0</th>\n",
              "      <td>V Kohli</td>\n",
              "      <td>50.0</td>\n",
              "      <td>23</td>\n",
              "      <td>False</td>\n",
              "    </tr>\n",
              "    <tr>\n",
              "      <th>2</th>\n",
              "      <td>Rohit Sharma</td>\n",
              "      <td>47.0</td>\n",
              "      <td>15</td>\n",
              "      <td>False</td>\n",
              "    </tr>\n",
              "    <tr>\n",
              "      <th>4</th>\n",
              "      <td>Yuvraj Singh</td>\n",
              "      <td>37.0</td>\n",
              "      <td>14</td>\n",
              "      <td>False</td>\n",
              "    </tr>\n",
              "    <tr>\n",
              "      <th>5</th>\n",
              "      <td>G Gambhir</td>\n",
              "      <td>39.0</td>\n",
              "      <td>9</td>\n",
              "      <td>True</td>\n",
              "    </tr>\n",
              "  </tbody>\n",
              "</table>\n",
              "</div>"
            ],
            "text/plain": [
              "    Player Name  No. of 50s  No. of 100s  Retired\n",
              "0       V Kohli        50.0           23    False\n",
              "2  Rohit Sharma        47.0           15    False\n",
              "4  Yuvraj Singh        37.0           14    False\n",
              "5     G Gambhir        39.0            9     True"
            ]
          },
          "metadata": {
            "tags": []
          },
          "execution_count": 20
        }
      ]
    },
    {
      "cell_type": "markdown",
      "metadata": {
        "id": "N0MQOy_ioNgA"
      },
      "source": [
        "##### Selection"
      ]
    },
    {
      "cell_type": "markdown",
      "metadata": {
        "id": "2BTSYocDoNgE"
      },
      "source": [
        "We use the `iloc` function to do index-based selection, that is we can use indexes of both rows and columns to select data."
      ]
    },
    {
      "cell_type": "code",
      "metadata": {
        "id": "V1vLDGEkoNgH",
        "outputId": "9a04fd37-b324-4fe6-b8e7-15527516228f"
      },
      "source": [
        "# Entire first row\n",
        "cricketData.iloc[0]"
      ],
      "execution_count": null,
      "outputs": [
        {
          "output_type": "execute_result",
          "data": {
            "text/plain": [
              "Player Name    V Kohli\n",
              "No. of 50s          50\n",
              "No. of 100s         23\n",
              "Retired          False\n",
              "Name: 0, dtype: object"
            ]
          },
          "metadata": {
            "tags": []
          },
          "execution_count": 21
        }
      ]
    },
    {
      "cell_type": "code",
      "metadata": {
        "id": "xcbYL_LCoNgS",
        "outputId": "ff067521-1600-4ab0-97df-c80ea0780888"
      },
      "source": [
        "# Entire zero index column\n",
        "cricketData.iloc[:, 0]"
      ],
      "execution_count": null,
      "outputs": [
        {
          "output_type": "execute_result",
          "data": {
            "text/plain": [
              "0         V Kohli\n",
              "1     S Tendulkar\n",
              "2    Rohit Sharma\n",
              "3        S Dhawan\n",
              "4    Yuvraj Singh\n",
              "5       G Gambhir\n",
              "Name: Player Name, dtype: object"
            ]
          },
          "metadata": {
            "tags": []
          },
          "execution_count": 22
        }
      ]
    },
    {
      "cell_type": "code",
      "metadata": {
        "id": "2h8B-_iIoNga",
        "outputId": "67200390-577e-4595-d4b2-f45824b1d657"
      },
      "source": [
        "# Columns with index 1 to 3 (exclusive)\n",
        "cricketData.iloc[:, 1:3]"
      ],
      "execution_count": null,
      "outputs": [
        {
          "output_type": "execute_result",
          "data": {
            "text/html": [
              "<div>\n",
              "<style scoped>\n",
              "    .dataframe tbody tr th:only-of-type {\n",
              "        vertical-align: middle;\n",
              "    }\n",
              "\n",
              "    .dataframe tbody tr th {\n",
              "        vertical-align: top;\n",
              "    }\n",
              "\n",
              "    .dataframe thead th {\n",
              "        text-align: right;\n",
              "    }\n",
              "</style>\n",
              "<table border=\"1\" class=\"dataframe\">\n",
              "  <thead>\n",
              "    <tr style=\"text-align: right;\">\n",
              "      <th></th>\n",
              "      <th>No. of 50s</th>\n",
              "      <th>No. of 100s</th>\n",
              "    </tr>\n",
              "  </thead>\n",
              "  <tbody>\n",
              "    <tr>\n",
              "      <th>0</th>\n",
              "      <td>50.0</td>\n",
              "      <td>23</td>\n",
              "    </tr>\n",
              "    <tr>\n",
              "      <th>1</th>\n",
              "      <td>NaN</td>\n",
              "      <td>26</td>\n",
              "    </tr>\n",
              "    <tr>\n",
              "      <th>2</th>\n",
              "      <td>47.0</td>\n",
              "      <td>15</td>\n",
              "    </tr>\n",
              "    <tr>\n",
              "      <th>3</th>\n",
              "      <td>NaN</td>\n",
              "      <td>12</td>\n",
              "    </tr>\n",
              "    <tr>\n",
              "      <th>4</th>\n",
              "      <td>37.0</td>\n",
              "      <td>14</td>\n",
              "    </tr>\n",
              "    <tr>\n",
              "      <th>5</th>\n",
              "      <td>39.0</td>\n",
              "      <td>9</td>\n",
              "    </tr>\n",
              "  </tbody>\n",
              "</table>\n",
              "</div>"
            ],
            "text/plain": [
              "   No. of 50s  No. of 100s\n",
              "0        50.0           23\n",
              "1         NaN           26\n",
              "2        47.0           15\n",
              "3         NaN           12\n",
              "4        37.0           14\n",
              "5        39.0            9"
            ]
          },
          "metadata": {
            "tags": []
          },
          "execution_count": 23
        }
      ]
    },
    {
      "cell_type": "code",
      "metadata": {
        "id": "Eja6U7s3oNgj",
        "outputId": "d4e37674-018c-4426-ccfa-dcea7e096460"
      },
      "source": [
        "# Selects 1st, 2nd row entry in 0th column\n",
        "cricketData.iloc[1:3, 0]"
      ],
      "execution_count": null,
      "outputs": [
        {
          "output_type": "execute_result",
          "data": {
            "text/plain": [
              "1     S Tendulkar\n",
              "2    Rohit Sharma\n",
              "Name: Player Name, dtype: object"
            ]
          },
          "metadata": {
            "tags": []
          },
          "execution_count": 24
        }
      ]
    },
    {
      "cell_type": "code",
      "metadata": {
        "id": "N29Fgc3qoNgp",
        "outputId": "e9f7b323-48b1-46dd-f17f-e6ca1312b1aa"
      },
      "source": [
        "# Selects 1st, 3rd row entry in 1st column\n",
        "cricketData.iloc[[1,3], 1]"
      ],
      "execution_count": null,
      "outputs": [
        {
          "output_type": "execute_result",
          "data": {
            "text/plain": [
              "1   NaN\n",
              "3   NaN\n",
              "Name: No. of 50s, dtype: float64"
            ]
          },
          "metadata": {
            "tags": []
          },
          "execution_count": 25
        }
      ]
    },
    {
      "cell_type": "markdown",
      "metadata": {
        "id": "v0zchpJDoNg1"
      },
      "source": [
        "We use the `loc` function to do label-based or conditional selection."
      ]
    },
    {
      "cell_type": "code",
      "metadata": {
        "id": "esPjKhD6oNg3",
        "outputId": "c0bf7837-baa0-4c14-abb9-53fb3e67e442"
      },
      "source": [
        "# First entry of column 'Player Name'\n",
        "cricketData.loc[0, 'Player Name']"
      ],
      "execution_count": null,
      "outputs": [
        {
          "output_type": "execute_result",
          "data": {
            "text/plain": [
              "'V Kohli'"
            ]
          },
          "metadata": {
            "tags": []
          },
          "execution_count": 26
        }
      ]
    },
    {
      "cell_type": "code",
      "metadata": {
        "id": "cSkI4FvxoNhC",
        "outputId": "b3a714ed-8a35-40ec-ed57-c8c5a1247029"
      },
      "source": [
        "# All entries of columns 'Player Name' and 'Retired'\n",
        "cricketData.loc[:, ['Player Name', 'Retired']]"
      ],
      "execution_count": null,
      "outputs": [
        {
          "output_type": "execute_result",
          "data": {
            "text/html": [
              "<div>\n",
              "<style scoped>\n",
              "    .dataframe tbody tr th:only-of-type {\n",
              "        vertical-align: middle;\n",
              "    }\n",
              "\n",
              "    .dataframe tbody tr th {\n",
              "        vertical-align: top;\n",
              "    }\n",
              "\n",
              "    .dataframe thead th {\n",
              "        text-align: right;\n",
              "    }\n",
              "</style>\n",
              "<table border=\"1\" class=\"dataframe\">\n",
              "  <thead>\n",
              "    <tr style=\"text-align: right;\">\n",
              "      <th></th>\n",
              "      <th>Player Name</th>\n",
              "      <th>Retired</th>\n",
              "    </tr>\n",
              "  </thead>\n",
              "  <tbody>\n",
              "    <tr>\n",
              "      <th>0</th>\n",
              "      <td>V Kohli</td>\n",
              "      <td>False</td>\n",
              "    </tr>\n",
              "    <tr>\n",
              "      <th>1</th>\n",
              "      <td>S Tendulkar</td>\n",
              "      <td>True</td>\n",
              "    </tr>\n",
              "    <tr>\n",
              "      <th>2</th>\n",
              "      <td>Rohit Sharma</td>\n",
              "      <td>False</td>\n",
              "    </tr>\n",
              "    <tr>\n",
              "      <th>3</th>\n",
              "      <td>S Dhawan</td>\n",
              "      <td>False</td>\n",
              "    </tr>\n",
              "    <tr>\n",
              "      <th>4</th>\n",
              "      <td>Yuvraj Singh</td>\n",
              "      <td>False</td>\n",
              "    </tr>\n",
              "    <tr>\n",
              "      <th>5</th>\n",
              "      <td>G Gambhir</td>\n",
              "      <td>True</td>\n",
              "    </tr>\n",
              "  </tbody>\n",
              "</table>\n",
              "</div>"
            ],
            "text/plain": [
              "    Player Name  Retired\n",
              "0       V Kohli    False\n",
              "1   S Tendulkar     True\n",
              "2  Rohit Sharma    False\n",
              "3      S Dhawan    False\n",
              "4  Yuvraj Singh    False\n",
              "5     G Gambhir     True"
            ]
          },
          "metadata": {
            "tags": []
          },
          "execution_count": 27
        }
      ]
    },
    {
      "cell_type": "code",
      "metadata": {
        "id": "TUS4zxgloNhL",
        "outputId": "c5021afe-73cf-4e09-c086-e3e3b5852fb0"
      },
      "source": [
        "# Entries with no. of 100s greater than 20\n",
        "cricketData.loc[cricketData['No. of 100s'] > 20]"
      ],
      "execution_count": null,
      "outputs": [
        {
          "output_type": "execute_result",
          "data": {
            "text/html": [
              "<div>\n",
              "<style scoped>\n",
              "    .dataframe tbody tr th:only-of-type {\n",
              "        vertical-align: middle;\n",
              "    }\n",
              "\n",
              "    .dataframe tbody tr th {\n",
              "        vertical-align: top;\n",
              "    }\n",
              "\n",
              "    .dataframe thead th {\n",
              "        text-align: right;\n",
              "    }\n",
              "</style>\n",
              "<table border=\"1\" class=\"dataframe\">\n",
              "  <thead>\n",
              "    <tr style=\"text-align: right;\">\n",
              "      <th></th>\n",
              "      <th>Player Name</th>\n",
              "      <th>No. of 50s</th>\n",
              "      <th>No. of 100s</th>\n",
              "      <th>Retired</th>\n",
              "    </tr>\n",
              "  </thead>\n",
              "  <tbody>\n",
              "    <tr>\n",
              "      <th>0</th>\n",
              "      <td>V Kohli</td>\n",
              "      <td>50.0</td>\n",
              "      <td>23</td>\n",
              "      <td>False</td>\n",
              "    </tr>\n",
              "    <tr>\n",
              "      <th>1</th>\n",
              "      <td>S Tendulkar</td>\n",
              "      <td>NaN</td>\n",
              "      <td>26</td>\n",
              "      <td>True</td>\n",
              "    </tr>\n",
              "  </tbody>\n",
              "</table>\n",
              "</div>"
            ],
            "text/plain": [
              "   Player Name  No. of 50s  No. of 100s  Retired\n",
              "0      V Kohli        50.0           23    False\n",
              "1  S Tendulkar         NaN           26     True"
            ]
          },
          "metadata": {
            "tags": []
          },
          "execution_count": 28
        }
      ]
    },
    {
      "cell_type": "code",
      "metadata": {
        "id": "iG7k6q-_oNhX",
        "outputId": "816c3b5e-8a8c-469e-dfff-ea35c7742379"
      },
      "source": [
        "# Entries with no. of 100s greater than 20 and not retired\n",
        "cricketData.loc[(cricketData['No. of 100s'] > 20) & (cricketData['Retired'])]"
      ],
      "execution_count": null,
      "outputs": [
        {
          "output_type": "execute_result",
          "data": {
            "text/html": [
              "<div>\n",
              "<style scoped>\n",
              "    .dataframe tbody tr th:only-of-type {\n",
              "        vertical-align: middle;\n",
              "    }\n",
              "\n",
              "    .dataframe tbody tr th {\n",
              "        vertical-align: top;\n",
              "    }\n",
              "\n",
              "    .dataframe thead th {\n",
              "        text-align: right;\n",
              "    }\n",
              "</style>\n",
              "<table border=\"1\" class=\"dataframe\">\n",
              "  <thead>\n",
              "    <tr style=\"text-align: right;\">\n",
              "      <th></th>\n",
              "      <th>Player Name</th>\n",
              "      <th>No. of 50s</th>\n",
              "      <th>No. of 100s</th>\n",
              "      <th>Retired</th>\n",
              "    </tr>\n",
              "  </thead>\n",
              "  <tbody>\n",
              "    <tr>\n",
              "      <th>1</th>\n",
              "      <td>S Tendulkar</td>\n",
              "      <td>NaN</td>\n",
              "      <td>26</td>\n",
              "      <td>True</td>\n",
              "    </tr>\n",
              "  </tbody>\n",
              "</table>\n",
              "</div>"
            ],
            "text/plain": [
              "   Player Name  No. of 50s  No. of 100s  Retired\n",
              "1  S Tendulkar         NaN           26     True"
            ]
          },
          "metadata": {
            "tags": []
          },
          "execution_count": 29
        }
      ]
    },
    {
      "cell_type": "code",
      "metadata": {
        "id": "TN-IGSyaoNhg",
        "outputId": "bd2ffd5e-a31a-44c4-fc66-089390d7b74a"
      },
      "source": [
        "# Entries with no. of 50s data available\n",
        "cricketData.loc[cricketData['No. of 50s'].notnull()]"
      ],
      "execution_count": null,
      "outputs": [
        {
          "output_type": "execute_result",
          "data": {
            "text/html": [
              "<div>\n",
              "<style scoped>\n",
              "    .dataframe tbody tr th:only-of-type {\n",
              "        vertical-align: middle;\n",
              "    }\n",
              "\n",
              "    .dataframe tbody tr th {\n",
              "        vertical-align: top;\n",
              "    }\n",
              "\n",
              "    .dataframe thead th {\n",
              "        text-align: right;\n",
              "    }\n",
              "</style>\n",
              "<table border=\"1\" class=\"dataframe\">\n",
              "  <thead>\n",
              "    <tr style=\"text-align: right;\">\n",
              "      <th></th>\n",
              "      <th>Player Name</th>\n",
              "      <th>No. of 50s</th>\n",
              "      <th>No. of 100s</th>\n",
              "      <th>Retired</th>\n",
              "    </tr>\n",
              "  </thead>\n",
              "  <tbody>\n",
              "    <tr>\n",
              "      <th>0</th>\n",
              "      <td>V Kohli</td>\n",
              "      <td>50.0</td>\n",
              "      <td>23</td>\n",
              "      <td>False</td>\n",
              "    </tr>\n",
              "    <tr>\n",
              "      <th>2</th>\n",
              "      <td>Rohit Sharma</td>\n",
              "      <td>47.0</td>\n",
              "      <td>15</td>\n",
              "      <td>False</td>\n",
              "    </tr>\n",
              "    <tr>\n",
              "      <th>4</th>\n",
              "      <td>Yuvraj Singh</td>\n",
              "      <td>37.0</td>\n",
              "      <td>14</td>\n",
              "      <td>False</td>\n",
              "    </tr>\n",
              "    <tr>\n",
              "      <th>5</th>\n",
              "      <td>G Gambhir</td>\n",
              "      <td>39.0</td>\n",
              "      <td>9</td>\n",
              "      <td>True</td>\n",
              "    </tr>\n",
              "  </tbody>\n",
              "</table>\n",
              "</div>"
            ],
            "text/plain": [
              "    Player Name  No. of 50s  No. of 100s  Retired\n",
              "0       V Kohli        50.0           23    False\n",
              "2  Rohit Sharma        47.0           15    False\n",
              "4  Yuvraj Singh        37.0           14    False\n",
              "5     G Gambhir        39.0            9     True"
            ]
          },
          "metadata": {
            "tags": []
          },
          "execution_count": 30
        }
      ]
    },
    {
      "cell_type": "markdown",
      "metadata": {
        "id": "gy0aCPr_oNhn"
      },
      "source": [
        "##### Grouping and Mapping"
      ]
    },
    {
      "cell_type": "markdown",
      "metadata": {
        "id": "P7BdOHwdoNhp"
      },
      "source": [
        "We can group all entries of a dataframe with respect from a particular column, and analyse the distribution of values of other columns values then."
      ]
    },
    {
      "cell_type": "code",
      "metadata": {
        "id": "UEqwqT3JoNhs",
        "outputId": "d913bf4c-bc69-4fcb-d37c-7256f53bf5a0"
      },
      "source": [
        "# We want to compare the statistics (sum, max, mean, median) of No. of 100s and 50s\n",
        "# between players who are retired and who are not\n",
        "cricketData.groupby('Retired')['No. of 100s', 'No. of 50s'].agg([sum, max, np.mean, np.median])"
      ],
      "execution_count": null,
      "outputs": [
        {
          "output_type": "execute_result",
          "data": {
            "text/html": [
              "<div>\n",
              "<style scoped>\n",
              "    .dataframe tbody tr th:only-of-type {\n",
              "        vertical-align: middle;\n",
              "    }\n",
              "\n",
              "    .dataframe tbody tr th {\n",
              "        vertical-align: top;\n",
              "    }\n",
              "\n",
              "    .dataframe thead tr th {\n",
              "        text-align: left;\n",
              "    }\n",
              "\n",
              "    .dataframe thead tr:last-of-type th {\n",
              "        text-align: right;\n",
              "    }\n",
              "</style>\n",
              "<table border=\"1\" class=\"dataframe\">\n",
              "  <thead>\n",
              "    <tr>\n",
              "      <th></th>\n",
              "      <th colspan=\"4\" halign=\"left\">No. of 100s</th>\n",
              "      <th colspan=\"4\" halign=\"left\">No. of 50s</th>\n",
              "    </tr>\n",
              "    <tr>\n",
              "      <th></th>\n",
              "      <th>sum</th>\n",
              "      <th>max</th>\n",
              "      <th>mean</th>\n",
              "      <th>median</th>\n",
              "      <th>sum</th>\n",
              "      <th>max</th>\n",
              "      <th>mean</th>\n",
              "      <th>median</th>\n",
              "    </tr>\n",
              "    <tr>\n",
              "      <th>Retired</th>\n",
              "      <th></th>\n",
              "      <th></th>\n",
              "      <th></th>\n",
              "      <th></th>\n",
              "      <th></th>\n",
              "      <th></th>\n",
              "      <th></th>\n",
              "      <th></th>\n",
              "    </tr>\n",
              "  </thead>\n",
              "  <tbody>\n",
              "    <tr>\n",
              "      <th>False</th>\n",
              "      <td>64</td>\n",
              "      <td>23</td>\n",
              "      <td>16.0</td>\n",
              "      <td>14.5</td>\n",
              "      <td>134.0</td>\n",
              "      <td>50.0</td>\n",
              "      <td>44.666667</td>\n",
              "      <td>47.0</td>\n",
              "    </tr>\n",
              "    <tr>\n",
              "      <th>True</th>\n",
              "      <td>35</td>\n",
              "      <td>26</td>\n",
              "      <td>17.5</td>\n",
              "      <td>17.5</td>\n",
              "      <td>39.0</td>\n",
              "      <td>39.0</td>\n",
              "      <td>39.000000</td>\n",
              "      <td>39.0</td>\n",
              "    </tr>\n",
              "  </tbody>\n",
              "</table>\n",
              "</div>"
            ],
            "text/plain": [
              "        No. of 100s                  No. of 50s                        \n",
              "                sum max  mean median        sum   max       mean median\n",
              "Retired                                                                \n",
              "False            64  23  16.0   14.5      134.0  50.0  44.666667   47.0\n",
              "True             35  26  17.5   17.5       39.0  39.0  39.000000   39.0"
            ]
          },
          "metadata": {
            "tags": []
          },
          "execution_count": 31
        }
      ]
    },
    {
      "cell_type": "markdown",
      "metadata": {
        "id": "0QrvvXuooNhz"
      },
      "source": [
        "We can use mapping functions to change directly values of dataframe based on some direct function."
      ]
    },
    {
      "cell_type": "code",
      "metadata": {
        "id": "RovYVYOwoNh1",
        "outputId": "6be76d38-9e94-4488-f4f3-1490b93c85e8"
      },
      "source": [
        "# Suppose all players scored a century in a match, and we need to update the database accordingly\n",
        "cricketData['No. of 100s'] = cricketData['No. of 100s'].map(lambda x : x + 1)   # Mapping function for a Series\n",
        "cricketData"
      ],
      "execution_count": null,
      "outputs": [
        {
          "output_type": "execute_result",
          "data": {
            "text/html": [
              "<div>\n",
              "<style scoped>\n",
              "    .dataframe tbody tr th:only-of-type {\n",
              "        vertical-align: middle;\n",
              "    }\n",
              "\n",
              "    .dataframe tbody tr th {\n",
              "        vertical-align: top;\n",
              "    }\n",
              "\n",
              "    .dataframe thead th {\n",
              "        text-align: right;\n",
              "    }\n",
              "</style>\n",
              "<table border=\"1\" class=\"dataframe\">\n",
              "  <thead>\n",
              "    <tr style=\"text-align: right;\">\n",
              "      <th></th>\n",
              "      <th>Player Name</th>\n",
              "      <th>No. of 50s</th>\n",
              "      <th>No. of 100s</th>\n",
              "      <th>Retired</th>\n",
              "    </tr>\n",
              "  </thead>\n",
              "  <tbody>\n",
              "    <tr>\n",
              "      <th>0</th>\n",
              "      <td>V Kohli</td>\n",
              "      <td>50.0</td>\n",
              "      <td>24</td>\n",
              "      <td>False</td>\n",
              "    </tr>\n",
              "    <tr>\n",
              "      <th>1</th>\n",
              "      <td>S Tendulkar</td>\n",
              "      <td>NaN</td>\n",
              "      <td>27</td>\n",
              "      <td>True</td>\n",
              "    </tr>\n",
              "    <tr>\n",
              "      <th>2</th>\n",
              "      <td>Rohit Sharma</td>\n",
              "      <td>47.0</td>\n",
              "      <td>16</td>\n",
              "      <td>False</td>\n",
              "    </tr>\n",
              "    <tr>\n",
              "      <th>3</th>\n",
              "      <td>S Dhawan</td>\n",
              "      <td>NaN</td>\n",
              "      <td>13</td>\n",
              "      <td>False</td>\n",
              "    </tr>\n",
              "    <tr>\n",
              "      <th>4</th>\n",
              "      <td>Yuvraj Singh</td>\n",
              "      <td>37.0</td>\n",
              "      <td>15</td>\n",
              "      <td>False</td>\n",
              "    </tr>\n",
              "    <tr>\n",
              "      <th>5</th>\n",
              "      <td>G Gambhir</td>\n",
              "      <td>39.0</td>\n",
              "      <td>10</td>\n",
              "      <td>True</td>\n",
              "    </tr>\n",
              "  </tbody>\n",
              "</table>\n",
              "</div>"
            ],
            "text/plain": [
              "    Player Name  No. of 50s  No. of 100s  Retired\n",
              "0       V Kohli        50.0           24    False\n",
              "1   S Tendulkar         NaN           27     True\n",
              "2  Rohit Sharma        47.0           16    False\n",
              "3      S Dhawan         NaN           13    False\n",
              "4  Yuvraj Singh        37.0           15    False\n",
              "5     G Gambhir        39.0           10     True"
            ]
          },
          "metadata": {
            "tags": []
          },
          "execution_count": 32
        }
      ]
    },
    {
      "cell_type": "code",
      "metadata": {
        "id": "X8noGLqqoNh9",
        "outputId": "b1a0eb0d-40a3-4e52-e91f-560cbd312cb3"
      },
      "source": [
        "# Suppose the board decides to retire a player who's centuries are less than 15\n",
        "\n",
        "def retireFunc(row):\n",
        "    if row['No. of 100s'] <= 15:\n",
        "        row['Retired'] = True\n",
        "    return row\n",
        "\n",
        "cricketData.apply(retireFunc, axis='columns')"
      ],
      "execution_count": null,
      "outputs": [
        {
          "output_type": "execute_result",
          "data": {
            "text/html": [
              "<div>\n",
              "<style scoped>\n",
              "    .dataframe tbody tr th:only-of-type {\n",
              "        vertical-align: middle;\n",
              "    }\n",
              "\n",
              "    .dataframe tbody tr th {\n",
              "        vertical-align: top;\n",
              "    }\n",
              "\n",
              "    .dataframe thead th {\n",
              "        text-align: right;\n",
              "    }\n",
              "</style>\n",
              "<table border=\"1\" class=\"dataframe\">\n",
              "  <thead>\n",
              "    <tr style=\"text-align: right;\">\n",
              "      <th></th>\n",
              "      <th>Player Name</th>\n",
              "      <th>No. of 50s</th>\n",
              "      <th>No. of 100s</th>\n",
              "      <th>Retired</th>\n",
              "    </tr>\n",
              "  </thead>\n",
              "  <tbody>\n",
              "    <tr>\n",
              "      <th>0</th>\n",
              "      <td>V Kohli</td>\n",
              "      <td>50.0</td>\n",
              "      <td>24</td>\n",
              "      <td>False</td>\n",
              "    </tr>\n",
              "    <tr>\n",
              "      <th>1</th>\n",
              "      <td>S Tendulkar</td>\n",
              "      <td>NaN</td>\n",
              "      <td>27</td>\n",
              "      <td>True</td>\n",
              "    </tr>\n",
              "    <tr>\n",
              "      <th>2</th>\n",
              "      <td>Rohit Sharma</td>\n",
              "      <td>47.0</td>\n",
              "      <td>16</td>\n",
              "      <td>False</td>\n",
              "    </tr>\n",
              "    <tr>\n",
              "      <th>3</th>\n",
              "      <td>S Dhawan</td>\n",
              "      <td>NaN</td>\n",
              "      <td>13</td>\n",
              "      <td>True</td>\n",
              "    </tr>\n",
              "    <tr>\n",
              "      <th>4</th>\n",
              "      <td>Yuvraj Singh</td>\n",
              "      <td>37.0</td>\n",
              "      <td>15</td>\n",
              "      <td>True</td>\n",
              "    </tr>\n",
              "    <tr>\n",
              "      <th>5</th>\n",
              "      <td>G Gambhir</td>\n",
              "      <td>39.0</td>\n",
              "      <td>10</td>\n",
              "      <td>True</td>\n",
              "    </tr>\n",
              "  </tbody>\n",
              "</table>\n",
              "</div>"
            ],
            "text/plain": [
              "    Player Name  No. of 50s  No. of 100s  Retired\n",
              "0       V Kohli        50.0           24    False\n",
              "1   S Tendulkar         NaN           27     True\n",
              "2  Rohit Sharma        47.0           16    False\n",
              "3      S Dhawan         NaN           13     True\n",
              "4  Yuvraj Singh        37.0           15     True\n",
              "5     G Gambhir        39.0           10     True"
            ]
          },
          "metadata": {
            "tags": []
          },
          "execution_count": 33
        }
      ]
    }
  ]
}